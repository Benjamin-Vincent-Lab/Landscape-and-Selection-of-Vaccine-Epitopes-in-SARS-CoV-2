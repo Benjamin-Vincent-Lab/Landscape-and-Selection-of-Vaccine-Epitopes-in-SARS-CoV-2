{
 "cells": [
  {
   "cell_type": "code",
   "execution_count": 1,
   "metadata": {},
   "outputs": [],
   "source": [
    "with open(\"../Figures/COVID/AA_sequence_combined.txt\") as f:\n",
    "    sarscov2_combined = f.read().strip()"
   ]
  },
  {
   "cell_type": "code",
   "execution_count": 2,
   "metadata": {},
   "outputs": [],
   "source": [
    "from pepdata import iedb"
   ]
  },
  {
   "cell_type": "code",
   "execution_count": 3,
   "metadata": {},
   "outputs": [],
   "source": [
    "df_mhc = iedb.mhc.load_dataframe()"
   ]
  },
  {
   "cell_type": "code",
   "execution_count": 4,
   "metadata": {},
   "outputs": [
    {
     "name": "stdout",
     "output_type": "stream",
     "text": [
      "                      Reference                                     \\\n",
      "                      Assay IRI                      Reference IRI   \n",
      "0  http://www.iedb.org/assay/29  http://www.iedb.org/reference/274   \n",
      "1  http://www.iedb.org/assay/37  http://www.iedb.org/reference/281   \n",
      "2  http://www.iedb.org/assay/42  http://www.iedb.org/reference/283   \n",
      "3  http://www.iedb.org/assay/43  http://www.iedb.org/reference/283   \n",
      "4  http://www.iedb.org/assay/47  http://www.iedb.org/reference/275   \n",
      "\n",
      "                                                                              \\\n",
      "         Type   PubMed ID                                            Authors   \n",
      "0  Literature  15448372.0  Yi-Hsiang Huang; Mi-Hua Tao; Cheng-po Hu; Wan-...   \n",
      "1  Literature   7684468.0  V J La Posta; D D Auperin; R Kamin-Lewis; G A ...   \n",
      "2  Literature  15634878.0    Evan R Jellison; Sung-Kwon Kim; Raymond M Welsh   \n",
      "3  Literature  15634878.0    Evan R Jellison; Sung-Kwon Kim; Raymond M Welsh   \n",
      "4  Literature  15519708.0  Olivier B Engler; Reto A Schwendener; Wen Juan...   \n",
      "\n",
      "                                                                         \\\n",
      "       Journal  Date                                              Title   \n",
      "0  J Gen Virol  2004  Identification of novel HLA-A*0201-restricted ...   \n",
      "1      J Virol  1993  Cross-protection against lymphocytic choriomen...   \n",
      "2    J Immunol  2005  Cutting edge: MHC class II-restricted killing ...   \n",
      "3    J Immunol  2005  Cutting edge: MHC class II-restricted killing ...   \n",
      "4      Vaccine  2004  A liposomal peptide vaccine inducing CD8+ T ce...   \n",
      "\n",
      "                                           Epitope  ...  \\\n",
      "  Submission ID                        Epitope IRI  ...   \n",
      "0           NaN  http://www.iedb.org/epitope/31803  ...   \n",
      "1           NaN  http://www.iedb.org/epitope/25946  ...   \n",
      "2           NaN  http://www.iedb.org/epitope/21045  ...   \n",
      "3           NaN  http://www.iedb.org/epitope/58012  ...   \n",
      "4           NaN   http://www.iedb.org/epitope/9203  ...   \n",
      "\n",
      "             Assay Antigen                               \\\n",
      "  Non-peptidic Antigen IRI Antigen Source Molecule Name   \n",
      "0                      NaN          large delta antigen   \n",
      "1                      NaN     Glycoprotein polyprotein   \n",
      "2                      NaN     Glycoprotein polyprotein   \n",
      "3                      NaN                Nucleoprotein   \n",
      "4                      NaN           Genome polyprotein   \n",
      "\n",
      "                                                   \\\n",
      "                      Antigen Source Molecule IRI   \n",
      "0  http://www.ncbi.nlm.nih.gov/protein/AAG26087.1   \n",
      "1    http://www.ncbi.nlm.nih.gov/protein/P08669.1   \n",
      "2    http://www.ncbi.nlm.nih.gov/protein/P07399.1   \n",
      "3    http://www.ncbi.nlm.nih.gov/protein/P07400.1   \n",
      "4    http://www.ncbi.nlm.nih.gov/protein/P26664.3   \n",
      "\n",
      "                                            \\\n",
      "                       Protein Parent Name   \n",
      "0                      Large delta antigen   \n",
      "1  Pre-glycoprotein polyprotein GP complex   \n",
      "2  Pre-glycoprotein polyprotein GP complex   \n",
      "3                            Nucleoprotein   \n",
      "4                       Genome polyprotein   \n",
      "\n",
      "                                          \\\n",
      "                      Protein Parent IRI   \n",
      "0  http://www.uniprot.org/uniprot/P29996   \n",
      "1  http://www.uniprot.org/uniprot/P08669   \n",
      "2  http://www.uniprot.org/uniprot/P09991   \n",
      "3  http://www.uniprot.org/uniprot/P09992   \n",
      "4  http://www.uniprot.org/uniprot/P27958   \n",
      "\n",
      "                                                      \\\n",
      "                               Antigen Organism Name   \n",
      "0                       Hepatitis delta virus TW2667   \n",
      "1                               Lassa mammarenavirus   \n",
      "2  Lymphocytic choriomeningitis virus (strain Arm...   \n",
      "3  Lymphocytic choriomeningitis virus (strain Arm...   \n",
      "4                       Hepatitis C virus subtype 1a   \n",
      "\n",
      "                                                   \\\n",
      "                             Antigen Organism IRI   \n",
      "0                  http://iedb.org/taxon/10000523   \n",
      "1  http://purl.obolibrary.org/obo/NCBITaxon_11620   \n",
      "2  http://purl.obolibrary.org/obo/NCBITaxon_11624   \n",
      "3  http://purl.obolibrary.org/obo/NCBITaxon_11624   \n",
      "4  http://purl.obolibrary.org/obo/NCBITaxon_31646   \n",
      "\n",
      "                                                \\\n",
      "                         Organism Species Name   \n",
      "0                        Hepatitis delta virus   \n",
      "1                         Lassa mammarenavirus   \n",
      "2  Lymphocytic choriomeningitis mammarenavirus   \n",
      "3  Lymphocytic choriomeningitis mammarenavirus   \n",
      "4                                Hepacivirus C   \n",
      "\n",
      "                                                   \\\n",
      "                             Organism Species IRI   \n",
      "0  http://purl.obolibrary.org/obo/NCBITaxon_12475   \n",
      "1  http://purl.obolibrary.org/obo/NCBITaxon_11620   \n",
      "2  http://purl.obolibrary.org/obo/NCBITaxon_11623   \n",
      "3  http://purl.obolibrary.org/obo/NCBITaxon_11623   \n",
      "4  http://purl.obolibrary.org/obo/NCBITaxon_11103   \n",
      "\n",
      "                                      Assay Comments  \n",
      "                                      Assay Comments  \n",
      "0                                                NaN  \n",
      "1  CD4+ T cells from the spleen of mice infected ...  \n",
      "2  MHC Class II restricted killing was shown by i...  \n",
      "3  MHC Class II restricted killing was shown by i...  \n",
      "4  Immunization of HLA-A2.1-transgenic mice with ...  \n",
      "\n",
      "[5 rows x 140 columns]\n"
     ]
    }
   ],
   "source": [
    "df_tcell = iedb.tcell.load_dataframe()"
   ]
  },
  {
   "cell_type": "code",
   "execution_count": 15,
   "metadata": {},
   "outputs": [],
   "source": [
    "mhc_organisms = set(df_mhc[\"Epitope\"][\"Organism Name\"].unique())"
   ]
  },
  {
   "cell_type": "code",
   "execution_count": 16,
   "metadata": {},
   "outputs": [],
   "source": [
    "tcell_organisms = set(df_tcell[\"Epitope\"][\"Organism Name\"].unique())"
   ]
  },
  {
   "cell_type": "code",
   "execution_count": 29,
   "metadata": {},
   "outputs": [
    {
     "name": "stdout",
     "output_type": "stream",
     "text": [
      "SARS coronavirus Tor2\n",
      "Bat SARS CoV Rp3/2004\n",
      "SARS-related coronavirus\n",
      "SARS coronavirus Urbani\n",
      "> Middle East respiratory syndrome-related coronavirus\n",
      "> Porcine reproductive and respiratory syndrome virus\n",
      "SARS coronavirus TJF\n",
      "SARS coronavirus\n",
      "SARS coronavirus BJ01\n"
     ]
    }
   ],
   "source": [
    "for o in mhc_organisms:\n",
    "    if type(o) is str and \"SARS\" in o:\n",
    "        print(o)\n",
    "    if type(o) is str and \"respiratory syndrome\" in o.lower().replace(\"-\", \" \"):\n",
    "        print(\">\", o)"
   ]
  },
  {
   "cell_type": "code",
   "execution_count": 30,
   "metadata": {},
   "outputs": [
    {
     "name": "stdout",
     "output_type": "stream",
     "text": [
      "SARS coronavirus Tor2\n",
      "SARS coronavirus Frankfurt 1\n",
      "SARS coronavirus Urbani\n",
      "> Middle East respiratory syndrome-related coronavirus\n",
      "> Porcine reproductive and respiratory syndrome virus\n",
      "> Porcine reproductive and respiratory syndrome virus HuN4\n",
      "SARS coronavirus TJF\n",
      "> Porcine reproductive and respiratory syndrome virus HuN4-F112\n",
      "SARS coronavirus\n",
      "SARS coronavirus BJ01\n"
     ]
    }
   ],
   "source": [
    "for o in tcell_organisms:\n",
    "    if type(o) is str and \"SARS\" in o:\n",
    "        print(o)\n",
    "    if type(o) is str and \"respiratory syndrome\" in o.lower().replace(\"-\", \" \"):\n",
    "        print(\">\", o)"
   ]
  },
  {
   "cell_type": "code",
   "execution_count": 32,
   "metadata": {},
   "outputs": [],
   "source": [
    "sars_organisms = { \n",
    "    \"SARS-related coronavirus\",\n",
    "    \"SARS coronavirus Urbani\",\n",
    "    \"SARS coronavirus Tor2\",\n",
    "    \"SARS coronavirus Frankfurt 1\",\n",
    "    \"SARS coronavirus TJF\",\n",
    "    \"SARS coronavirus\",\n",
    "    \"SARS coronavirus BJ01\",\n",
    "}"
   ]
  },
  {
   "cell_type": "code",
   "execution_count": 35,
   "metadata": {},
   "outputs": [
    {
     "data": {
      "text/plain": [
       "1440"
      ]
     },
     "execution_count": 35,
     "metadata": {},
     "output_type": "execute_result"
    }
   ],
   "source": [
    "df_tcell_sars = df_tcell[df_tcell[\"Epitope\"][\"Organism Name\"].isin(sars_organisms)];\n",
    "len(df_tcell_sars)"
   ]
  },
  {
   "cell_type": "code",
   "execution_count": 36,
   "metadata": {},
   "outputs": [
    {
     "data": {
      "text/plain": [
       "13432"
      ]
     },
     "execution_count": 36,
     "metadata": {},
     "output_type": "execute_result"
    }
   ],
   "source": [
    "df_mhc_sars = df_mhc[df_mhc[\"Epitope\"][\"Organism Name\"].isin(sars_organisms)];\n",
    "len(df_mhc_sars)"
   ]
  },
  {
   "cell_type": "code",
   "execution_count": 37,
   "metadata": {},
   "outputs": [],
   "source": [
    "sars2_kmers = set([])\n",
    "for k in {8,9,10,11,12,13,14,15,16,17,18,19,20,21}:\n",
    "    for i in range(len(sarscov2_combined) - k + 1):\n",
    "        sars2_kmers.add(sarscov2_combined[i:i+k])"
   ]
  },
  {
   "cell_type": "code",
   "execution_count": 38,
   "metadata": {},
   "outputs": [
    {
     "data": {
      "text/plain": [
       "135625"
      ]
     },
     "execution_count": 38,
     "metadata": {},
     "output_type": "execute_result"
    }
   ],
   "source": [
    "len(sars2_kmers)"
   ]
  },
  {
   "cell_type": "code",
   "execution_count": 41,
   "metadata": {},
   "outputs": [
    {
     "data": {
      "text/plain": [
       "339"
      ]
     },
     "execution_count": 41,
     "metadata": {},
     "output_type": "execute_result"
    }
   ],
   "source": [
    "df_tcell_sars_in_sars2 = df_tcell_sars[df_tcell_sars[\"Epitope\"][\"Description\"].isin(sars2_kmers)];\n",
    "len(df_tcell_sars_in_sars2)"
   ]
  },
  {
   "cell_type": "code",
   "execution_count": 42,
   "metadata": {},
   "outputs": [
    {
     "data": {
      "text/plain": [
       "5068"
      ]
     },
     "execution_count": 42,
     "metadata": {},
     "output_type": "execute_result"
    }
   ],
   "source": [
    "df_mhc_sars_in_sars2 = df_mhc_sars[df_mhc_sars[\"Epitope\"][\"Description\"].isin(sars2_kmers)];\n",
    "len(df_mhc_sars_in_sars2)"
   ]
  },
  {
   "cell_type": "code",
   "execution_count": 43,
   "metadata": {},
   "outputs": [],
   "source": [
    "df_mhc_sars_in_sars2.to_csv(\"mhc-sars2.csv\", index=False)"
   ]
  },
  {
   "cell_type": "code",
   "execution_count": 44,
   "metadata": {},
   "outputs": [],
   "source": [
    "df_tcell_sars_in_sars2.to_csv(\"tcell-sars2.csv\", index=False)"
   ]
  },
  {
   "cell_type": "code",
   "execution_count": 46,
   "metadata": {},
   "outputs": [
    {
     "data": {
      "text/plain": [
       "purified MHC/competitive/radioactivity    3783\n",
       "purified MHC/direct/fluorescence          1095\n",
       "purified MHC                                57\n",
       "cellular MHC/direct/fluorescence            54\n",
       "purified MHC/direct/radioactivity           51\n",
       "cellular MHC/competitive/fluorescence       19\n",
       "purified MHC/competitive/fluorescence        7\n",
       "x-ray crystallography                        2\n",
       "Name: Method/Technique, dtype: int64"
      ]
     },
     "execution_count": 46,
     "metadata": {},
     "output_type": "execute_result"
    }
   ],
   "source": [
    "df_mhc_sars_in_sars2[\"Assay\"][\"Method/Technique\"].value_counts()"
   ]
  },
  {
   "cell_type": "code",
   "execution_count": 47,
   "metadata": {},
   "outputs": [
    {
     "data": {
      "text/plain": [
       "ELISPOT                   164\n",
       "ELISA                      49\n",
       "ICS                        38\n",
       "3H-thymidine               35\n",
       "multimer/tetramer          16\n",
       "51 chromium                15\n",
       "in vivo assay               9\n",
       "in vitro assay              8\n",
       "in vivo skin test           2\n",
       "biological activity         2\n",
       "intracellular staining      1\n",
       "Name: Method/Technique, dtype: int64"
      ]
     },
     "execution_count": 47,
     "metadata": {},
     "output_type": "execute_result"
    }
   ],
   "source": [
    "df_tcell_sars_in_sars2[\"Assay\"][\"Method/Technique\"].value_counts()"
   ]
  },
  {
   "cell_type": "code",
   "execution_count": 116,
   "metadata": {},
   "outputs": [
    {
     "name": "stdout",
     "output_type": "stream",
     "text": [
      "-- Selected 3783 entries for assays {'purified MHC/competitive/radioactivity'}\n",
      "Keeping 3783/3783 entries with quantitative measurements\n",
      "-- 410 pMHC entries with repeated results, mean max/min ratio = 1.01\n",
      "Wrote 3373 items to mhc_sars2_purified_competitive_radioactivity.csv\n",
      "-- Selected 1095 entries for assays {'purified MHC/direct/fluorescence'}\n",
      "Keeping 206/1095 entries with quantitative measurements\n",
      "-- 24 pMHC entries with repeated results, mean max/min ratio = 1.03\n",
      "Wrote 182 items to mhc_sars2_purified_direct_fluorescence.csv\n",
      "-- Selected 4878 entries for assays {'purified MHC/competitive/radioactivity', 'purified MHC/direct/fluorescence'}\n",
      "Keeping 3989/4878 entries with quantitative measurements\n",
      "-- 451 pMHC entries with repeated results, mean max/min ratio = 10.39\n",
      "Wrote 3511 items to mhc_sars2_purified_combined.csv\n"
     ]
    }
   ],
   "source": [
    "from collections import defaultdict\n",
    "\n",
    "def aggregate_mhc_results(df_mhc, assays, output_csv_filename=None):\n",
    "    if type(assays) is str:\n",
    "        assays = {assays}\n",
    "    elif type(assays) in (list, tuple):\n",
    "        assays = set(assays)\n",
    "    df_mhc_assay = df_mhc[df_mhc[\"Assay\"][\"Method/Technique\"].isin(assays)]\n",
    "    print(\"-- Selected %d entries for assays %s\" % (len(df_mhc_assay), assays))\n",
    "    \n",
    "    affs = df_mhc_assay[(\"Assay\", \"Quantitative measurement\")]\n",
    "    null_affinity = affs.isnull()\n",
    "    valid_affinity = ~null_affinity\n",
    "    valid_affinity_mask = valid_affinity.values\n",
    "    \n",
    "    print(\"Keeping %d/%d entries with quantitative measurements\" % (\n",
    "        valid_affinity_mask.sum(), len(valid_affinity_mask)))\n",
    "    affs = affs[valid_affinity_mask]\n",
    "    peptides = df_mhc_assay[(\"Epitope\", \"Description\")][valid_affinity_mask]\n",
    "  \n",
    "    alleles = df_mhc_assay[\"MHC\"][\"Allele Name\"][valid_affinity_mask]\n",
    "\n",
    "    pmhc_to_affinities = defaultdict(list)\n",
    "    for nm, a, p in sorted(zip(affs, alleles, peptides, )):\n",
    "        pmhc_to_affinities[(a,p)].append(nm)\n",
    "    \n",
    "    # aggregate by taking median value, and geometric mean of middle values\n",
    "    # in cases where there are an even number of values\n",
    "    pmhc_to_affinity = {\n",
    "        pmhc: np.exp(np.median(np.log(affs))) \n",
    "        for (pmhc,affs) in pmhc_to_affinities.items()}\n",
    "    \n",
    "    max_to_min_ratios = []\n",
    "    for (pmhc, affinities) in pmhc_to_affinities.items():\n",
    "        if len(affinities) > 1:\n",
    "            min_val = min(affinities)\n",
    "            max_val = max(affinities)\n",
    "            ratio = max_val / min_val\n",
    "            if np.isnan(ratio):\n",
    "                print(pmhc, affinities, ratio)\n",
    "            max_to_min_ratios.append(ratio)\n",
    "    print(\"-- %d pMHC entries with repeated results, mean max/min ratio = %0.2f\" % (\n",
    "        len(max_to_min_ratios),\n",
    "        np.mean(max_to_min_ratios)))\n",
    "    \n",
    "    if output_csv_filename:\n",
    "        with open(output_csv_filename, \"w\") as f:\n",
    "            f.write(\"allele,peptide,affinity\\n\")\n",
    "            for (a,p), nm in sorted(pmhc_to_affinity.items()):\n",
    "                f.write(\"%s,%s,%0.2f\\n\" % (a, p, nm))\n",
    "        print(\"Wrote %d items to %s\" % (len(pmhc_to_affinity), output_csv_filename))\n",
    "    \n",
    "    return pmhc_to_affinity\n",
    "   \n",
    "# radioligand assays\n",
    "pmhc_to_affinity_r = aggregate_mhc_results(\n",
    "    df_mhc_sars_in_sars2, \n",
    "    assays=\"purified MHC/competitive/radioactivity\",\n",
    "    output_csv_filename=\"mhc_sars2_purified_competitive_radioactivity.csv\")\n",
    "\n",
    "# fluorescence assays\n",
    "              \n",
    "pmhc_to_affinity_f = aggregate_mhc_results(\n",
    "    df_mhc_sars_in_sars2, \n",
    "    assays=\"purified MHC/direct/fluorescence\",\n",
    "    output_csv_filename=\"mhc_sars2_purified_direct_fluorescence.csv\")\n",
    "\n",
    "# radioligand or fluorescence assays\n",
    "              \n",
    "pmhc_to_affinity_rf = aggregate_mhc_results(\n",
    "    df_mhc_sars_in_sars2, \n",
    "    assays={\n",
    "        \"purified MHC/competitive/radioactivity\",\n",
    "        \"purified MHC/direct/fluorescence\",\n",
    "    },\n",
    "    output_csv_filename=\"mhc_sars2_purified_combined.csv\")\n",
    "\n",
    "              "
   ]
  },
  {
   "cell_type": "code",
   "execution_count": 84,
   "metadata": {},
   "outputs": [
    {
     "data": {
      "text/plain": [
       "HLA-DRB1*01:01    241\n",
       "HLA-A*01:01       171\n",
       "HLA-A*23:01       171\n",
       "HLA-A*30:02       171\n",
       "HLA-A*26:01       171\n",
       "HLA-A*29:02       171\n",
       "HLA-A*24:02       171\n",
       "HLA-A*02:03       170\n",
       "HLA-A*02:01       170\n",
       "HLA-A*02:02       170\n",
       "HLA-A*02:06       170\n",
       "HLA-A*03:01       165\n",
       "HLA-A*68:01       165\n",
       "HLA-A*31:01       165\n",
       "HLA-A*11:01       165\n",
       "HLA-A*33:01       165\n",
       "HLA-A*68:02       155\n",
       "HLA-B*18:01        88\n",
       "HLA-B*44:02        88\n",
       "HLA-B*40:01        88\n",
       "HLA-B*45:01        88\n",
       "HLA-B*44:03        88\n",
       "HLA-B*40:02        88\n",
       "HLA-B*07:02        47\n",
       "HLA-B*51:01        47\n",
       "HLA-B*54:01        47\n",
       "HLA-B*35:01        47\n",
       "HLA-B*53:01        47\n",
       "Patr-B*01:01       24\n",
       "Patr-A*01:01       14\n",
       "Patr-B*13:01       12\n",
       "Patr-B*24:01       12\n",
       "Patr-A*09:01       11\n",
       "Patr-A*07:01       11\n",
       "Mamu-B*001:01       9\n",
       "Name: Allele Name, dtype: int64"
      ]
     },
     "execution_count": 84,
     "metadata": {},
     "output_type": "execute_result"
    }
   ],
   "source": [
    "alleles.value_counts()"
   ]
  },
  {
   "cell_type": "code",
   "execution_count": 85,
   "metadata": {},
   "outputs": [
    {
     "data": {
      "text/plain": [
       "14341       0.448\n",
       "14342       3.680\n",
       "14417     435.000\n",
       "14434       2.320\n",
       "14507       5.840\n",
       "           ...   \n",
       "198271      1.600\n",
       "198272      0.610\n",
       "198273      2.000\n",
       "198274      4.600\n",
       "198275      1.500\n",
       "Name: Quantitative measurement, Length: 3783, dtype: float64"
      ]
     },
     "execution_count": 85,
     "metadata": {},
     "output_type": "execute_result"
    }
   ],
   "source": [
    "df_mhc_sars_in_sars2_radio[\"Assay\"][\"Quantitative measurement\"]"
   ]
  },
  {
   "cell_type": "code",
   "execution_count": 73,
   "metadata": {},
   "outputs": [],
   "source": [
    "import seaborn"
   ]
  },
  {
   "cell_type": "code",
   "execution_count": 80,
   "metadata": {},
   "outputs": [
    {
     "data": {
      "text/plain": [
       "<matplotlib.axes._subplots.AxesSubplot at 0x14cf9e2d0>"
      ]
     },
     "execution_count": 80,
     "metadata": {},
     "output_type": "execute_result"
    },
    {
     "data": {
      "image/png": "[encoded data removed]",
      "text/plain": [
       "<Figure size 864x576 with 1 Axes>"
      ]
     },
     "metadata": {
      "needs_background": "light"
     },
     "output_type": "display_data"
    }
   ],
   "source": [
    "import seaborn\n",
    "import matplotlib.pyplot as plt\n",
    "\n",
    "plt.figure(figsize=(12,8))\n",
    "seaborn.distplot(list(pmhc_to_aff.values()), rug=True)"
   ]
  },
  {
   "cell_type": "code",
   "execution_count": 82,
   "metadata": {},
   "outputs": [
    {
     "data": {
      "text/plain": [
       "0.2588200415060777"
      ]
     },
     "execution_count": 82,
     "metadata": {},
     "output_type": "execute_result"
    }
   ],
   "source": [
    "(np.array(list(pmhc_to_aff.values())) > 10**4).mean()"
   ]
  },
  {
   "cell_type": "code",
   "execution_count": 95,
   "metadata": {},
   "outputs": [],
   "source": [
    "df_r = pd.read_csv(\"mhc_sars2_purified_competitive_radioactivity.csv\").set_index([\"allele\", \"peptide\"])\n",
    "df_f = pd.read_csv(\"mhc_sars2_purified_direct_fluorescence.csv\").set_index([\"allele\", \"peptide\"])"
   ]
  },
  {
   "cell_type": "code",
   "execution_count": 101,
   "metadata": {},
   "outputs": [],
   "source": [
    "joined = df_r.join(df_f, how=\"inner\", lsuffix=\"_r\", rsuffix=\"_f\")"
   ]
  },
  {
   "cell_type": "code",
   "execution_count": 103,
   "metadata": {},
   "outputs": [
    {
     "data": {
      "text/html": [
       "<div>\n",
       "<style scoped>\n",
       "    .dataframe tbody tr th:only-of-type {\n",
       "        vertical-align: middle;\n",
       "    }\n",
       "\n",
       "    .dataframe tbody tr th {\n",
       "        vertical-align: top;\n",
       "    }\n",
       "\n",
       "    .dataframe thead th {\n",
       "        text-align: right;\n",
       "    }\n",
       "</style>\n",
       "<table border=\"1\" class=\"dataframe\">\n",
       "  <thead>\n",
       "    <tr style=\"text-align: right;\">\n",
       "      <th></th>\n",
       "      <th></th>\n",
       "      <th>affinity_r</th>\n",
       "      <th>affinity_f</th>\n",
       "    </tr>\n",
       "    <tr>\n",
       "      <th>allele</th>\n",
       "      <th>peptide</th>\n",
       "      <th></th>\n",
       "      <th></th>\n",
       "    </tr>\n",
       "  </thead>\n",
       "  <tbody>\n",
       "    <tr>\n",
       "      <th rowspan=\"3\" valign=\"top\">HLA-A*03:01</th>\n",
       "      <th>MTNRQFHQK</th>\n",
       "      <td>21.50</td>\n",
       "      <td>88.24</td>\n",
       "    </tr>\n",
       "    <tr>\n",
       "      <th>KMQRMLLEK</th>\n",
       "      <td>6.98</td>\n",
       "      <td>304.95</td>\n",
       "    </tr>\n",
       "    <tr>\n",
       "      <th>YIFFASFYY</th>\n",
       "      <td>2.26</td>\n",
       "      <td>1004.67</td>\n",
       "    </tr>\n",
       "    <tr>\n",
       "      <th>HLA-A*11:01</th>\n",
       "      <th>VVYRGTTTY</th>\n",
       "      <td>108.00</td>\n",
       "      <td>117.17</td>\n",
       "    </tr>\n",
       "    <tr>\n",
       "      <th>HLA-A*03:01</th>\n",
       "      <th>AVLQSGFRK</th>\n",
       "      <td>6.78</td>\n",
       "      <td>258.85</td>\n",
       "    </tr>\n",
       "    <tr>\n",
       "      <th>HLA-A*11:01</th>\n",
       "      <th>KLFAAETLK</th>\n",
       "      <td>20.90</td>\n",
       "      <td>233.75</td>\n",
       "    </tr>\n",
       "    <tr>\n",
       "      <th>HLA-A*03:01</th>\n",
       "      <th>KLFAAETLK</th>\n",
       "      <td>11.60</td>\n",
       "      <td>375.87</td>\n",
       "    </tr>\n",
       "    <tr>\n",
       "      <th>HLA-A*31:01</th>\n",
       "      <th>KLFAAETLK</th>\n",
       "      <td>80.50</td>\n",
       "      <td>173.00</td>\n",
       "    </tr>\n",
       "    <tr>\n",
       "      <th>HLA-A*03:01</th>\n",
       "      <th>KTFPPTEPK</th>\n",
       "      <td>287.00</td>\n",
       "      <td>186.22</td>\n",
       "    </tr>\n",
       "    <tr>\n",
       "      <th>HLA-A*11:01</th>\n",
       "      <th>YIFFASFYY</th>\n",
       "      <td>0.41</td>\n",
       "      <td>346.95</td>\n",
       "    </tr>\n",
       "    <tr>\n",
       "      <th>HLA-A*03:01</th>\n",
       "      <th>VVYRGTTTY</th>\n",
       "      <td>7.73</td>\n",
       "      <td>42.06</td>\n",
       "    </tr>\n",
       "    <tr>\n",
       "      <th rowspan=\"2\" valign=\"top\">HLA-A*11:01</th>\n",
       "      <th>AVLQSGFRK</th>\n",
       "      <td>10.30</td>\n",
       "      <td>80.10</td>\n",
       "    </tr>\n",
       "    <tr>\n",
       "      <th>MTNRQFHQK</th>\n",
       "      <td>4.95</td>\n",
       "      <td>144.95</td>\n",
       "    </tr>\n",
       "    <tr>\n",
       "      <th>HLA-A*03:01</th>\n",
       "      <th>ATVVIGTSK</th>\n",
       "      <td>186.00</td>\n",
       "      <td>231.85</td>\n",
       "    </tr>\n",
       "    <tr>\n",
       "      <th rowspan=\"3\" valign=\"top\">HLA-A*11:01</th>\n",
       "      <th>KTFPPTEPK</th>\n",
       "      <td>527.00</td>\n",
       "      <td>69.82</td>\n",
       "    </tr>\n",
       "    <tr>\n",
       "      <th>GVAMPNLYK</th>\n",
       "      <td>2.73</td>\n",
       "      <td>72.82</td>\n",
       "    </tr>\n",
       "    <tr>\n",
       "      <th>SSNVANYQK</th>\n",
       "      <td>48.50</td>\n",
       "      <td>22.92</td>\n",
       "    </tr>\n",
       "    <tr>\n",
       "      <th>HLA-A*31:01</th>\n",
       "      <th>AVLQSGFRK</th>\n",
       "      <td>21.20</td>\n",
       "      <td>186.50</td>\n",
       "    </tr>\n",
       "    <tr>\n",
       "      <th>HLA-A*11:01</th>\n",
       "      <th>KMQRMLLEK</th>\n",
       "      <td>4.39</td>\n",
       "      <td>340.80</td>\n",
       "    </tr>\n",
       "    <tr>\n",
       "      <th>HLA-A*03:01</th>\n",
       "      <th>ALRANSAVK</th>\n",
       "      <td>18.20</td>\n",
       "      <td>197.12</td>\n",
       "    </tr>\n",
       "    <tr>\n",
       "      <th>HLA-A*11:01</th>\n",
       "      <th>ATVVIGTSK</th>\n",
       "      <td>3.15</td>\n",
       "      <td>30.13</td>\n",
       "    </tr>\n",
       "    <tr>\n",
       "      <th rowspan=\"2\" valign=\"top\">HLA-A*31:01</th>\n",
       "      <th>KTFPPTEPK</th>\n",
       "      <td>166.00</td>\n",
       "      <td>96.33</td>\n",
       "    </tr>\n",
       "    <tr>\n",
       "      <th>ALRANSAVK</th>\n",
       "      <td>1600.00</td>\n",
       "      <td>479.00</td>\n",
       "    </tr>\n",
       "    <tr>\n",
       "      <th>HLA-A*03:01</th>\n",
       "      <th>GVAMPNLYK</th>\n",
       "      <td>4.08</td>\n",
       "      <td>59.92</td>\n",
       "    </tr>\n",
       "    <tr>\n",
       "      <th>HLA-A*11:01</th>\n",
       "      <th>ALRANSAVK</th>\n",
       "      <td>2480.00</td>\n",
       "      <td>1760.00</td>\n",
       "    </tr>\n",
       "    <tr>\n",
       "      <th>HLA-A*03:01</th>\n",
       "      <th>SSNVANYQK</th>\n",
       "      <td>1760.00</td>\n",
       "      <td>442.07</td>\n",
       "    </tr>\n",
       "  </tbody>\n",
       "</table>\n",
       "</div>"
      ],
      "text/plain": [
       "                       affinity_r  affinity_f\n",
       "allele      peptide                          \n",
       "HLA-A*03:01 MTNRQFHQK       21.50       88.24\n",
       "            KMQRMLLEK        6.98      304.95\n",
       "            YIFFASFYY        2.26     1004.67\n",
       "HLA-A*11:01 VVYRGTTTY      108.00      117.17\n",
       "HLA-A*03:01 AVLQSGFRK        6.78      258.85\n",
       "HLA-A*11:01 KLFAAETLK       20.90      233.75\n",
       "HLA-A*03:01 KLFAAETLK       11.60      375.87\n",
       "HLA-A*31:01 KLFAAETLK       80.50      173.00\n",
       "HLA-A*03:01 KTFPPTEPK      287.00      186.22\n",
       "HLA-A*11:01 YIFFASFYY        0.41      346.95\n",
       "HLA-A*03:01 VVYRGTTTY        7.73       42.06\n",
       "HLA-A*11:01 AVLQSGFRK       10.30       80.10\n",
       "            MTNRQFHQK        4.95      144.95\n",
       "HLA-A*03:01 ATVVIGTSK      186.00      231.85\n",
       "HLA-A*11:01 KTFPPTEPK      527.00       69.82\n",
       "            GVAMPNLYK        2.73       72.82\n",
       "            SSNVANYQK       48.50       22.92\n",
       "HLA-A*31:01 AVLQSGFRK       21.20      186.50\n",
       "HLA-A*11:01 KMQRMLLEK        4.39      340.80\n",
       "HLA-A*03:01 ALRANSAVK       18.20      197.12\n",
       "HLA-A*11:01 ATVVIGTSK        3.15       30.13\n",
       "HLA-A*31:01 KTFPPTEPK      166.00       96.33\n",
       "            ALRANSAVK     1600.00      479.00\n",
       "HLA-A*03:01 GVAMPNLYK        4.08       59.92\n",
       "HLA-A*11:01 ALRANSAVK     2480.00     1760.00\n",
       "HLA-A*03:01 SSNVANYQK     1760.00      442.07"
      ]
     },
     "execution_count": 103,
     "metadata": {},
     "output_type": "execute_result"
    }
   ],
   "source": [
    "r_null = joined[\"affinity_r\"].isnull()\n",
    "f_null = joined[\"affinity_f\"].isnull()\n",
    "either_null = r_null | f_null\n",
    "neither_null = ~either_null\n",
    "joined[neither_null]"
   ]
  },
  {
   "cell_type": "code",
   "execution_count": null,
   "metadata": {},
   "outputs": [],
   "source": []
  }
 ],
 "metadata": {
  "kernelspec": {
   "display_name": "Python 3",
   "language": "python",
   "name": "python3"
  },
  "language_info": {
   "codemirror_mode": {
    "name": "ipython",
    "version": 3
   },
   "file_extension": ".py",
   "mimetype": "text/x-python",
   "name": "python",
   "nbconvert_exporter": "python",
   "pygments_lexer": "ipython3",
   "version": "3.7.5"
  }
 },
 "nbformat": 4,
 "nbformat_minor": 2
}
