{
 "cells": [
  {
   "cell_type": "code",
   "execution_count": 1,
   "metadata": {},
   "outputs": [],
   "source": [
    "with open(\"../Figures/COVID/AA_sequence_combined.txt\") as f:\n",
    "    sarscov2_combined = f.read().strip()"
   ]
  },
  {
   "cell_type": "code",
   "execution_count": 2,
   "metadata": {},
   "outputs": [],
   "source": [
    "from pepdata import iedb"
   ]
  },
  {
   "cell_type": "code",
   "execution_count": 3,
   "metadata": {},
   "outputs": [],
   "source": [
    "df_mhc = iedb.mhc.load_dataframe()"
   ]
  },
  {
   "cell_type": "code",
   "execution_count": 4,
   "metadata": {},
   "outputs": [
    {
     "name": "stdout",
     "output_type": "stream",
     "text": [
      "                      Reference                                     \\\n",
      "                      Assay IRI                      Reference IRI   \n",
      "0  http://www.iedb.org/assay/29  http://www.iedb.org/reference/274   \n",
      "1  http://www.iedb.org/assay/37  http://www.iedb.org/reference/281   \n",
      "2  http://www.iedb.org/assay/42  http://www.iedb.org/reference/283   \n",
      "3  http://www.iedb.org/assay/43  http://www.iedb.org/reference/283   \n",
      "4  http://www.iedb.org/assay/47  http://www.iedb.org/reference/275   \n",
      "\n",
      "                                                                              \\\n",
      "         Type   PubMed ID                                            Authors   \n",
      "0  Literature  15448372.0  Yi-Hsiang Huang; Mi-Hua Tao; Cheng-po Hu; Wan-...   \n",
      "1  Literature   7684468.0  V J La Posta; D D Auperin; R Kamin-Lewis; G A ...   \n",
      "2  Literature  15634878.0    Evan R Jellison; Sung-Kwon Kim; Raymond M Welsh   \n",
      "3  Literature  15634878.0    Evan R Jellison; Sung-Kwon Kim; Raymond M Welsh   \n",
      "4  Literature  15519708.0  Olivier B Engler; Reto A Schwendener; Wen Juan...   \n",
      "\n",
      "                                                                         \\\n",
      "       Journal  Date                                              Title   \n",
      "0  J Gen Virol  2004  Identification of novel HLA-A*0201-restricted ...   \n",
      "1      J Virol  1993  Cross-protection against lymphocytic choriomen...   \n",
      "2    J Immunol  2005  Cutting edge: MHC class II-restricted killing ...   \n",
      "3    J Immunol  2005  Cutting edge: MHC class II-restricted killing ...   \n",
      "4      Vaccine  2004  A liposomal peptide vaccine inducing CD8+ T ce...   \n",
      "\n",
      "                                           Epitope  ...  \\\n",
      "  Submission ID                        Epitope IRI  ...   \n",
      "0           NaN  http://www.iedb.org/epitope/31803  ...   \n",
      "1           NaN  http://www.iedb.org/epitope/25946  ...   \n",
      "2           NaN  http://www.iedb.org/epitope/21045  ...   \n",
      "3           NaN  http://www.iedb.org/epitope/58012  ...   \n",
      "4           NaN   http://www.iedb.org/epitope/9203  ...   \n",
      "\n",
      "             Assay Antigen                               \\\n",
      "  Non-peptidic Antigen IRI Antigen Source Molecule Name   \n",
      "0                      NaN          large delta antigen   \n",
      "1                      NaN     Glycoprotein polyprotein   \n",
      "2                      NaN     Glycoprotein polyprotein   \n",
      "3                      NaN                Nucleoprotein   \n",
      "4                      NaN           Genome polyprotein   \n",
      "\n",
      "                                                   \\\n",
      "                      Antigen Source Molecule IRI   \n",
      "0  http://www.ncbi.nlm.nih.gov/protein/AAG26087.1   \n",
      "1    http://www.ncbi.nlm.nih.gov/protein/P08669.1   \n",
      "2    http://www.ncbi.nlm.nih.gov/protein/P07399.1   \n",
      "3    http://www.ncbi.nlm.nih.gov/protein/P07400.1   \n",
      "4    http://www.ncbi.nlm.nih.gov/protein/P26664.3   \n",
      "\n",
      "                                            \\\n",
      "                       Protein Parent Name   \n",
      "0                      Large delta antigen   \n",
      "1  Pre-glycoprotein polyprotein GP complex   \n",
      "2  Pre-glycoprotein polyprotein GP complex   \n",
      "3                            Nucleoprotein   \n",
      "4                       Genome polyprotein   \n",
      "\n",
      "                                          \\\n",
      "                      Protein Parent IRI   \n",
      "0  http://www.uniprot.org/uniprot/P29996   \n",
      "1  http://www.uniprot.org/uniprot/P08669   \n",
      "2  http://www.uniprot.org/uniprot/P09991   \n",
      "3  http://www.uniprot.org/uniprot/P09992   \n",
      "4  http://www.uniprot.org/uniprot/P27958   \n",
      "\n",
      "                                                      \\\n",
      "                               Antigen Organism Name   \n",
      "0                       Hepatitis delta virus TW2667   \n",
      "1                               Lassa mammarenavirus   \n",
      "2  Lymphocytic choriomeningitis virus (strain Arm...   \n",
      "3  Lymphocytic choriomeningitis virus (strain Arm...   \n",
      "4                       Hepatitis C virus subtype 1a   \n",
      "\n",
      "                                                   \\\n",
      "                             Antigen Organism IRI   \n",
      "0                  http://iedb.org/taxon/10000523   \n",
      "1  http://purl.obolibrary.org/obo/NCBITaxon_11620   \n",
      "2  http://purl.obolibrary.org/obo/NCBITaxon_11624   \n",
      "3  http://purl.obolibrary.org/obo/NCBITaxon_11624   \n",
      "4  http://purl.obolibrary.org/obo/NCBITaxon_31646   \n",
      "\n",
      "                                                \\\n",
      "                         Organism Species Name   \n",
      "0                        Hepatitis delta virus   \n",
      "1                         Lassa mammarenavirus   \n",
      "2  Lymphocytic choriomeningitis mammarenavirus   \n",
      "3  Lymphocytic choriomeningitis mammarenavirus   \n",
      "4                                Hepacivirus C   \n",
      "\n",
      "                                                   \\\n",
      "                             Organism Species IRI   \n",
      "0  http://purl.obolibrary.org/obo/NCBITaxon_12475   \n",
      "1  http://purl.obolibrary.org/obo/NCBITaxon_11620   \n",
      "2  http://purl.obolibrary.org/obo/NCBITaxon_11623   \n",
      "3  http://purl.obolibrary.org/obo/NCBITaxon_11623   \n",
      "4  http://purl.obolibrary.org/obo/NCBITaxon_11103   \n",
      "\n",
      "                                      Assay Comments  \n",
      "                                      Assay Comments  \n",
      "0                                                NaN  \n",
      "1  CD4+ T cells from the spleen of mice infected ...  \n",
      "2  MHC Class II restricted killing was shown by i...  \n",
      "3  MHC Class II restricted killing was shown by i...  \n",
      "4  Immunization of HLA-A2.1-transgenic mice with ...  \n",
      "\n",
      "[5 rows x 140 columns]\n"
     ]
    }
   ],
   "source": [
    "df_tcell = iedb.tcell.load_dataframe()"
   ]
  },
  {
   "cell_type": "code",
   "execution_count": 15,
   "metadata": {},
   "outputs": [],
   "source": [
    "mhc_organisms = set(df_mhc[\"Epitope\"][\"Organism Name\"].unique())"
   ]
  },
  {
   "cell_type": "code",
   "execution_count": 16,
   "metadata": {},
   "outputs": [],
   "source": [
    "tcell_organisms = set(df_tcell[\"Epitope\"][\"Organism Name\"].unique())"
   ]
  },
  {
   "cell_type": "code",
   "execution_count": 29,
   "metadata": {},
   "outputs": [
    {
     "name": "stdout",
     "output_type": "stream",
     "text": [
      "SARS coronavirus Tor2\n",
      "Bat SARS CoV Rp3/2004\n",
      "SARS-related coronavirus\n",
      "SARS coronavirus Urbani\n",
      "> Middle East respiratory syndrome-related coronavirus\n",
      "> Porcine reproductive and respiratory syndrome virus\n",
      "SARS coronavirus TJF\n",
      "SARS coronavirus\n",
      "SARS coronavirus BJ01\n"
     ]
    }
   ],
   "source": [
    "for o in mhc_organisms:\n",
    "    if type(o) is str and \"SARS\" in o:\n",
    "        print(o)\n",
    "    if type(o) is str and \"respiratory syndrome\" in o.lower().replace(\"-\", \" \"):\n",
    "        print(\">\", o)"
   ]
  },
  {
   "cell_type": "code",
   "execution_count": 30,
   "metadata": {},
   "outputs": [
    {
     "name": "stdout",
     "output_type": "stream",
     "text": [
      "SARS coronavirus Tor2\n",
      "SARS coronavirus Frankfurt 1\n",
      "SARS coronavirus Urbani\n",
      "> Middle East respiratory syndrome-related coronavirus\n",
      "> Porcine reproductive and respiratory syndrome virus\n",
      "> Porcine reproductive and respiratory syndrome virus HuN4\n",
      "SARS coronavirus TJF\n",
      "> Porcine reproductive and respiratory syndrome virus HuN4-F112\n",
      "SARS coronavirus\n",
      "SARS coronavirus BJ01\n"
     ]
    }
   ],
   "source": [
    "for o in tcell_organisms:\n",
    "    if type(o) is str and \"SARS\" in o:\n",
    "        print(o)\n",
    "    if type(o) is str and \"respiratory syndrome\" in o.lower().replace(\"-\", \" \"):\n",
    "        print(\">\", o)"
   ]
  },
  {
   "cell_type": "code",
   "execution_count": 32,
   "metadata": {},
   "outputs": [],
   "source": [
    "sars_organisms = { \n",
    "    \"SARS-related coronavirus\",\n",
    "    \"SARS coronavirus Urbani\",\n",
    "    \"SARS coronavirus Tor2\",\n",
    "    \"SARS coronavirus Frankfurt 1\",\n",
    "    \"SARS coronavirus TJF\",\n",
    "    \"SARS coronavirus\",\n",
    "    \"SARS coronavirus BJ01\",\n",
    "}"
   ]
  },
  {
   "cell_type": "code",
   "execution_count": 35,
   "metadata": {},
   "outputs": [
    {
     "data": {
      "text/plain": [
       "1440"
      ]
     },
     "execution_count": 35,
     "metadata": {},
     "output_type": "execute_result"
    }
   ],
   "source": [
    "df_tcell_sars = df_tcell[df_tcell[\"Epitope\"][\"Organism Name\"].isin(sars_organisms)];\n",
    "len(df_tcell_sars)"
   ]
  },
  {
   "cell_type": "code",
   "execution_count": 36,
   "metadata": {},
   "outputs": [
    {
     "data": {
      "text/plain": [
       "13432"
      ]
     },
     "execution_count": 36,
     "metadata": {},
     "output_type": "execute_result"
    }
   ],
   "source": [
    "df_mhc_sars = df_mhc[df_mhc[\"Epitope\"][\"Organism Name\"].isin(sars_organisms)];\n",
    "len(df_mhc_sars)"
   ]
  },
  {
   "cell_type": "code",
   "execution_count": 37,
   "metadata": {},
   "outputs": [],
   "source": [
    "sars2_kmers = set([])\n",
    "for k in {8,9,10,11,12,13,14,15,16,17,18,19,20,21}:\n",
    "    for i in range(len(sarscov2_combined) - k + 1):\n",
    "        sars2_kmers.add(sarscov2_combined[i:i+k])"
   ]
  },
  {
   "cell_type": "code",
   "execution_count": 38,
   "metadata": {},
   "outputs": [
    {
     "data": {
      "text/plain": [
       "135625"
      ]
     },
     "execution_count": 38,
     "metadata": {},
     "output_type": "execute_result"
    }
   ],
   "source": [
    "len(sars2_kmers)"
   ]
  },
  {
   "cell_type": "code",
   "execution_count": 41,
   "metadata": {},
   "outputs": [
    {
     "data": {
      "text/plain": [
       "339"
      ]
     },
     "execution_count": 41,
     "metadata": {},
     "output_type": "execute_result"
    }
   ],
   "source": [
    "df_tcell_sars_in_sars2 = df_tcell_sars[df_tcell_sars[\"Epitope\"][\"Description\"].isin(sars2_kmers)];\n",
    "len(df_tcell_sars_in_sars2)"
   ]
  },
  {
   "cell_type": "code",
   "execution_count": 42,
   "metadata": {},
   "outputs": [
    {
     "data": {
      "text/plain": [
       "5068"
      ]
     },
     "execution_count": 42,
     "metadata": {},
     "output_type": "execute_result"
    }
   ],
   "source": [
    "df_mhc_sars_in_sars2 = df_mhc_sars[df_mhc_sars[\"Epitope\"][\"Description\"].isin(sars2_kmers)];\n",
    "len(df_mhc_sars_in_sars2)"
   ]
  },
  {
   "cell_type": "code",
   "execution_count": null,
   "metadata": {},
   "outputs": [],
   "source": []
  }
 ],
 "metadata": {
  "kernelspec": {
   "display_name": "Python 3",
   "language": "python",
   "name": "python3"
  },
  "language_info": {
   "codemirror_mode": {
    "name": "ipython",
    "version": 3
   },
   "file_extension": ".py",
   "mimetype": "text/x-python",
   "name": "python",
   "nbconvert_exporter": "python",
   "pygments_lexer": "ipython3",
   "version": "3.7.5"
  }
 },
 "nbformat": 4,
 "nbformat_minor": 2
}
