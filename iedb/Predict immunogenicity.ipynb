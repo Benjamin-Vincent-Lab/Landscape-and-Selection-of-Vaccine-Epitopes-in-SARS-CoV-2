{
 "cells": [
  {
   "cell_type": "code",
   "execution_count": 105,
   "metadata": {},
   "outputs": [
    {
     "data": {
      "text/html": [
       "<div>\n",
       "<style scoped>\n",
       "    .dataframe tbody tr th:only-of-type {\n",
       "        vertical-align: middle;\n",
       "    }\n",
       "\n",
       "    .dataframe tbody tr th {\n",
       "        vertical-align: top;\n",
       "    }\n",
       "\n",
       "    .dataframe thead th {\n",
       "        text-align: right;\n",
       "    }\n",
       "</style>\n",
       "<table border=\"1\" class=\"dataframe\">\n",
       "  <thead>\n",
       "    <tr style=\"text-align: right;\">\n",
       "      <th></th>\n",
       "      <th>allele</th>\n",
       "      <th>peptide</th>\n",
       "      <th>fraction_entries_positive</th>\n",
       "      <th>num_entries</th>\n",
       "      <th>num_entries_with_subjects</th>\n",
       "      <th>num_subjects</th>\n",
       "      <th>num_subjects_positive</th>\n",
       "      <th>fraction_subjects_positive</th>\n",
       "      <th>in_sars2</th>\n",
       "      <th>species_prefix</th>\n",
       "      <th>species</th>\n",
       "      <th>mhc_gene_name</th>\n",
       "      <th>mhc_class</th>\n",
       "    </tr>\n",
       "  </thead>\n",
       "  <tbody>\n",
       "    <tr>\n",
       "      <th>0</th>\n",
       "      <td>H2-Db</td>\n",
       "      <td>AAIENYVRF</td>\n",
       "      <td>1.000000</td>\n",
       "      <td>1</td>\n",
       "      <td>0</td>\n",
       "      <td>0.0</td>\n",
       "      <td>0.0</td>\n",
       "      <td>0.000000</td>\n",
       "      <td>False</td>\n",
       "      <td>H2</td>\n",
       "      <td>mouse</td>\n",
       "      <td>D</td>\n",
       "      <td>I</td>\n",
       "    </tr>\n",
       "    <tr>\n",
       "      <th>1</th>\n",
       "      <td>H2-Db</td>\n",
       "      <td>AAVKNWMTQTL</td>\n",
       "      <td>1.000000</td>\n",
       "      <td>1</td>\n",
       "      <td>0</td>\n",
       "      <td>0.0</td>\n",
       "      <td>0.0</td>\n",
       "      <td>0.000000</td>\n",
       "      <td>False</td>\n",
       "      <td>H2</td>\n",
       "      <td>mouse</td>\n",
       "      <td>D</td>\n",
       "      <td>I</td>\n",
       "    </tr>\n",
       "    <tr>\n",
       "      <th>2</th>\n",
       "      <td>H2-Db</td>\n",
       "      <td>AGPHNDMEI</td>\n",
       "      <td>0.863636</td>\n",
       "      <td>22</td>\n",
       "      <td>2</td>\n",
       "      <td>18.0</td>\n",
       "      <td>16.0</td>\n",
       "      <td>0.888889</td>\n",
       "      <td>False</td>\n",
       "      <td>H2</td>\n",
       "      <td>mouse</td>\n",
       "      <td>D</td>\n",
       "      <td>I</td>\n",
       "    </tr>\n",
       "    <tr>\n",
       "      <th>3</th>\n",
       "      <td>H2-Db</td>\n",
       "      <td>ASNENMDAM</td>\n",
       "      <td>0.578947</td>\n",
       "      <td>19</td>\n",
       "      <td>0</td>\n",
       "      <td>0.0</td>\n",
       "      <td>0.0</td>\n",
       "      <td>0.000000</td>\n",
       "      <td>False</td>\n",
       "      <td>H2</td>\n",
       "      <td>mouse</td>\n",
       "      <td>D</td>\n",
       "      <td>I</td>\n",
       "    </tr>\n",
       "    <tr>\n",
       "      <th>4</th>\n",
       "      <td>H2-Db</td>\n",
       "      <td>ASNENMDTM</td>\n",
       "      <td>1.000000</td>\n",
       "      <td>3</td>\n",
       "      <td>0</td>\n",
       "      <td>0.0</td>\n",
       "      <td>0.0</td>\n",
       "      <td>0.000000</td>\n",
       "      <td>False</td>\n",
       "      <td>H2</td>\n",
       "      <td>mouse</td>\n",
       "      <td>D</td>\n",
       "      <td>I</td>\n",
       "    </tr>\n",
       "    <tr>\n",
       "      <th>...</th>\n",
       "      <td>...</td>\n",
       "      <td>...</td>\n",
       "      <td>...</td>\n",
       "      <td>...</td>\n",
       "      <td>...</td>\n",
       "      <td>...</td>\n",
       "      <td>...</td>\n",
       "      <td>...</td>\n",
       "      <td>...</td>\n",
       "      <td>...</td>\n",
       "      <td>...</td>\n",
       "      <td>...</td>\n",
       "      <td>...</td>\n",
       "    </tr>\n",
       "    <tr>\n",
       "      <th>2620</th>\n",
       "      <td>SLA-2*0401</td>\n",
       "      <td>MTAHITVPY</td>\n",
       "      <td>1.000000</td>\n",
       "      <td>1</td>\n",
       "      <td>1</td>\n",
       "      <td>4.0</td>\n",
       "      <td>4.0</td>\n",
       "      <td>1.000000</td>\n",
       "      <td>False</td>\n",
       "      <td>SLA</td>\n",
       "      <td>pig</td>\n",
       "      <td>2</td>\n",
       "      <td>?</td>\n",
       "    </tr>\n",
       "    <tr>\n",
       "      <th>2621</th>\n",
       "      <td>SLA-2*0401</td>\n",
       "      <td>SKFTFSIPY</td>\n",
       "      <td>0.000000</td>\n",
       "      <td>1</td>\n",
       "      <td>1</td>\n",
       "      <td>5.0</td>\n",
       "      <td>0.0</td>\n",
       "      <td>0.000000</td>\n",
       "      <td>False</td>\n",
       "      <td>SLA</td>\n",
       "      <td>pig</td>\n",
       "      <td>2</td>\n",
       "      <td>?</td>\n",
       "    </tr>\n",
       "    <tr>\n",
       "      <th>2622</th>\n",
       "      <td>SLA-2*0401</td>\n",
       "      <td>SSVGVTHGY</td>\n",
       "      <td>1.000000</td>\n",
       "      <td>1</td>\n",
       "      <td>1</td>\n",
       "      <td>4.0</td>\n",
       "      <td>4.0</td>\n",
       "      <td>1.000000</td>\n",
       "      <td>False</td>\n",
       "      <td>SLA</td>\n",
       "      <td>pig</td>\n",
       "      <td>2</td>\n",
       "      <td>?</td>\n",
       "    </tr>\n",
       "    <tr>\n",
       "      <th>2623</th>\n",
       "      <td>SLA-2*0401</td>\n",
       "      <td>TNTQNNDWF</td>\n",
       "      <td>1.000000</td>\n",
       "      <td>1</td>\n",
       "      <td>1</td>\n",
       "      <td>5.0</td>\n",
       "      <td>5.0</td>\n",
       "      <td>1.000000</td>\n",
       "      <td>False</td>\n",
       "      <td>SLA</td>\n",
       "      <td>pig</td>\n",
       "      <td>2</td>\n",
       "      <td>?</td>\n",
       "    </tr>\n",
       "    <tr>\n",
       "      <th>2624</th>\n",
       "      <td>SLA-2*0401</td>\n",
       "      <td>YSGTINLHF</td>\n",
       "      <td>1.000000</td>\n",
       "      <td>1</td>\n",
       "      <td>1</td>\n",
       "      <td>4.0</td>\n",
       "      <td>4.0</td>\n",
       "      <td>1.000000</td>\n",
       "      <td>False</td>\n",
       "      <td>SLA</td>\n",
       "      <td>pig</td>\n",
       "      <td>2</td>\n",
       "      <td>?</td>\n",
       "    </tr>\n",
       "  </tbody>\n",
       "</table>\n",
       "<p>2625 rows × 13 columns</p>\n",
       "</div>"
      ],
      "text/plain": [
       "          allele      peptide  fraction_entries_positive  num_entries  \\\n",
       "0          H2-Db    AAIENYVRF                   1.000000            1   \n",
       "1          H2-Db  AAVKNWMTQTL                   1.000000            1   \n",
       "2          H2-Db    AGPHNDMEI                   0.863636           22   \n",
       "3          H2-Db    ASNENMDAM                   0.578947           19   \n",
       "4          H2-Db    ASNENMDTM                   1.000000            3   \n",
       "...          ...          ...                        ...          ...   \n",
       "2620  SLA-2*0401    MTAHITVPY                   1.000000            1   \n",
       "2621  SLA-2*0401    SKFTFSIPY                   0.000000            1   \n",
       "2622  SLA-2*0401    SSVGVTHGY                   1.000000            1   \n",
       "2623  SLA-2*0401    TNTQNNDWF                   1.000000            1   \n",
       "2624  SLA-2*0401    YSGTINLHF                   1.000000            1   \n",
       "\n",
       "      num_entries_with_subjects  num_subjects  num_subjects_positive  \\\n",
       "0                             0           0.0                    0.0   \n",
       "1                             0           0.0                    0.0   \n",
       "2                             2          18.0                   16.0   \n",
       "3                             0           0.0                    0.0   \n",
       "4                             0           0.0                    0.0   \n",
       "...                         ...           ...                    ...   \n",
       "2620                          1           4.0                    4.0   \n",
       "2621                          1           5.0                    0.0   \n",
       "2622                          1           4.0                    4.0   \n",
       "2623                          1           5.0                    5.0   \n",
       "2624                          1           4.0                    4.0   \n",
       "\n",
       "      fraction_subjects_positive  in_sars2 species_prefix species  \\\n",
       "0                       0.000000     False             H2   mouse   \n",
       "1                       0.000000     False             H2   mouse   \n",
       "2                       0.888889     False             H2   mouse   \n",
       "3                       0.000000     False             H2   mouse   \n",
       "4                       0.000000     False             H2   mouse   \n",
       "...                          ...       ...            ...     ...   \n",
       "2620                    1.000000     False            SLA     pig   \n",
       "2621                    0.000000     False            SLA     pig   \n",
       "2622                    1.000000     False            SLA     pig   \n",
       "2623                    1.000000     False            SLA     pig   \n",
       "2624                    1.000000     False            SLA     pig   \n",
       "\n",
       "     mhc_gene_name mhc_class  \n",
       "0                D         I  \n",
       "1                D         I  \n",
       "2                D         I  \n",
       "3                D         I  \n",
       "4                D         I  \n",
       "...            ...       ...  \n",
       "2620             2         ?  \n",
       "2621             2         ?  \n",
       "2622             2         ?  \n",
       "2623             2         ?  \n",
       "2624             2         ?  \n",
       "\n",
       "[2625 rows x 13 columns]"
      ]
     },
     "execution_count": 105,
     "metadata": {},
     "output_type": "execute_result"
    }
   ],
   "source": [
    "df_tcell = pd.read_csv(\"tcell_virus_tetramer.csv\");\n",
    "df_tcell"
   ]
  },
  {
   "cell_type": "code",
   "execution_count": 132,
   "metadata": {},
   "outputs": [
    {
     "name": "stdout",
     "output_type": "stream",
     "text": [
      "Negative:\n",
      "HLA-DRB1*04:01    128\n",
      "HLA-DRB1*01:02     61\n",
      "HLA-DRB1*03:01     61\n",
      "HLA-DRB1*04:04     55\n",
      "HLA-DRB1*15:01     12\n",
      "HLA-DRB5*01:01     10\n",
      "HLA-DRB1*01:03      8\n",
      "HLA-DRB1*01:01      6\n",
      "H2-IAb              2\n",
      "HLA-DRB1*11:01      2\n",
      "HLA-DRB1*08:01      1\n",
      "HLA-DRB1*07:01      1\n",
      "H2-IA               1\n",
      "Name: allele, dtype: int64\n",
      "\n",
      "Positive:\n",
      "HLA-DRB1*01:01     148\n",
      "HLA-DRB1*04:01     135\n",
      "HLA-DRB1*11:01     126\n",
      "HLA-DRB1*07:01     119\n",
      "HLA-DRB1*04:04      86\n",
      "HLA-DRB1*15:01      85\n",
      "HLA-DRB1*03:01      67\n",
      "HLA-DRB5*01:01      65\n",
      "HLA-DRB1*01:03      25\n",
      "H2-IAb              20\n",
      "HLA-DRB1*11:04      18\n",
      "HLA-DRB1*08:01      15\n",
      "HLA-DRB1*15:02      12\n",
      "HLA-DRB1*14:01      11\n",
      "HLA-DRB1*13:01       8\n",
      "HLA-DRB3*02:02       7\n",
      "HLA-DRB1*01:02       4\n",
      "HLA-DRB1*13:02       3\n",
      "H2-IAd               3\n",
      "HLA-DRB1*09:01       3\n",
      "HLA-DQB1*06:02       3\n",
      "HLA-DRB1*12:01       2\n",
      "HLA-DRB3*01:01       1\n",
      "HLA-DPB1*04:01       1\n",
      "Patr-DRB5*03:10      1\n",
      "Name: allele, dtype: int64\n"
     ]
    }
   ],
   "source": [
    "df_tcell_class2 = df_tcell[df_tcell[\"mhc_class\"] == \"II\"]\n",
    "df_tcell_class2_negative = df_tcell_class2[df_tcell_class2.fraction_entries_positive <= 0.5]\n",
    "df_tcell_class2_positive = df_tcell_class2[df_tcell_class2.fraction_entries_positive > 0.5]\n",
    "print(\"Negative:\\n%s\\n\" % (df_tcell_class2_negative.allele.value_counts(),))\n",
    "print(\"Positive:\\n%s\" % (df_tcell_class2_positive.allele.value_counts(),))"
   ]
  },
  {
   "cell_type": "code",
   "execution_count": 107,
   "metadata": {},
   "outputs": [
    {
     "data": {
      "text/plain": [
       "0.0"
      ]
     },
     "execution_count": 107,
     "metadata": {},
     "output_type": "execute_result"
    }
   ],
   "source": [
    "df_tcell.fraction_entries_positive.isnull().mean()"
   ]
  },
  {
   "cell_type": "code",
   "execution_count": 108,
   "metadata": {},
   "outputs": [
    {
     "name": "stdout",
     "output_type": "stream",
     "text": [
      "Selected 1214/2625 pMHCs for prediction with MHCflurry\n",
      "0.00% of label values null\n"
     ]
    }
   ],
   "source": [
    "import mhcflurry\n",
    "from mhctools import MHCflurry\n",
    "pred = mhcflurry.Class1PresentationPredictor.load()\n",
    "supported_alleles = set(pred.supported_alleles)\n",
    "\n",
    "df_tcell[\"mhcflurry_allele_name\"] = df_tcell.allele.str.replace(\"H2\", \"H-2\")\n",
    "\n",
    "df_tcell_mouse_and_human = df_tcell[df_tcell.species.isin({\"human\", \"mouse\"})]\n",
    "\n",
    "df_tcell_mouse_and_human_class1 = df_tcell_mouse_and_human[\n",
    "    df_tcell_mouse_and_human.mhc_class == \"I\"]\n",
    "\n",
    "df_tcell_mhcflurry = df_tcell_mouse_and_human_class1[\n",
    "    (df_tcell_mouse_and_human_class1.mhcflurry_allele_name.isin(supported_alleles)) &\n",
    "    (df_tcell_mouse_and_human_class1.peptide.str.len() < 16)]\n",
    "\n",
    "print(\"Selected %d/%d pMHCs for prediction with MHCflurry\" % (\n",
    "    len(df_tcell_mhcflurry),\n",
    "    len(df_tcell)))\n",
    "print(\"%0.2f%% of label values null\" % (\n",
    "    df_tcell_mhcflurry.fraction_entries_positive.isnull().mean() * 100))\n"
   ]
  },
  {
   "cell_type": "code",
   "execution_count": 135,
   "metadata": {},
   "outputs": [
    {
     "name": "stderr",
     "output_type": "stream",
     "text": [
      "\r",
      "  0%|          | 0/1 [00:00<?, ?it/s]"
     ]
    },
    {
     "name": "stdout",
     "output_type": "stream",
     "text": [
      "Predicting processing.\n"
     ]
    },
    {
     "name": "stderr",
     "output_type": "stream",
     "text": [
      "100%|██████████| 1/1 [00:00<00:00,  1.30it/s]\n",
      "  1%|▏         | 1/68 [00:00<00:07,  9.50it/s]"
     ]
    },
    {
     "name": "stdout",
     "output_type": "stream",
     "text": [
      "Predicting affinities.\n"
     ]
    },
    {
     "name": "stderr",
     "output_type": "stream",
     "text": [
      "100%|██████████| 68/68 [00:06<00:00, 10.81it/s]"
     ]
    },
    {
     "name": "stdout",
     "output_type": "stream",
     "text": [
      "1214 1214\n"
     ]
    },
    {
     "name": "stderr",
     "output_type": "stream",
     "text": [
      "\n"
     ]
    }
   ],
   "source": [
    "df_pred_mhcflurry = pred.predict(\n",
    "    peptides=df_tcell_mhcflurry.peptide.values,\n",
    "    alleles={allele:[allele] for allele in df_tcell_mhcflurry.mhcflurry_allele_name.unique()},\n",
    "    sample_names=df_tcell_mhcflurry.mhcflurry_allele_name.values)\n",
    "df_pred_mhcflurry.to_csv(\"tcell_virus_tetramer_class1_mhcflurry_predictions.csv\", index=False)\n",
    "print(len(df_pred), len(df_tcell_mhcflurry))"
   ]
  },
  {
   "cell_type": "code",
   "execution_count": 148,
   "metadata": {},
   "outputs": [
    {
     "name": "stdout",
     "output_type": "stream",
     "text": [
      "==> H2-Db (n=60)\n",
      "==> H2-Dd (n=12)\n",
      "==> H2-Dk (n=1)\n",
      "==> H2-Kb (n=73)\n",
      "==> H2-Kd (n=24)\n",
      "==> H2-Kk (n=1)\n",
      "==> H2-Ld (n=10)\n",
      "==> HLA-A*01:01 (n=33)\n",
      "==> HLA-A*02:01 (n=426)\n",
      "==> HLA-A*02:02 (n=2)\n",
      "==> HLA-A*02:03 (n=3)\n",
      "==> HLA-A*02:05 (n=9)\n",
      "==> HLA-A*02:06 (n=13)\n",
      "==> HLA-A*02:07 (n=4)\n",
      "==> HLA-A*03:01 (n=21)\n",
      "==> HLA-A*11:01 (n=41)\n",
      "==> HLA-A*23:01 (n=6)\n",
      "==> HLA-A*24:02 (n=40)\n",
      "==> HLA-A*25:01 (n=9)\n",
      "==> HLA-A*26:01 (n=7)\n",
      "==> HLA-A*29:01 (n=1)\n",
      "==> HLA-A*29:02 (n=11)\n",
      "==> HLA-A*30:01 (n=1)\n",
      "==> HLA-A*31:01 (n=5)\n",
      "==> HLA-A*32:01 (n=15)\n",
      "==> HLA-A*33:01 (n=1)\n",
      "==> HLA-A*33:03 (n=6)\n",
      "==> HLA-A*68:01 (n=11)\n",
      "==> HLA-A*68:02 (n=2)\n",
      "==> HLA-B*07:02 (n=94)\n",
      "==> HLA-B*08:01 (n=22)\n",
      "==> HLA-B*08:02 (n=3)\n",
      "==> HLA-B*13:02 (n=4)\n",
      "==> HLA-B*14:02 (n=3)\n",
      "==> HLA-B*15:01 (n=29)\n",
      "==> HLA-B*15:02 (n=3)\n",
      "==> HLA-B*18:01 (n=8)\n",
      "==> HLA-B*27:01 (n=1)\n",
      "==> HLA-B*27:02 (n=2)\n",
      "==> HLA-B*27:04 (n=1)\n",
      "==> HLA-B*27:05 (n=13)\n",
      "==> HLA-B*35:01 (n=48)\n",
      "==> HLA-B*35:02 (n=1)\n",
      "==> HLA-B*35:03 (n=10)\n",
      "==> HLA-B*35:08 (n=6)\n",
      "==> HLA-B*37:01 (n=2)\n",
      "==> HLA-B*38:01 (n=3)\n",
      "==> HLA-B*39:01 (n=3)\n",
      "==> HLA-B*40:01 (n=23)\n",
      "==> HLA-B*40:02 (n=9)\n",
      "==> HLA-B*44:02 (n=5)\n",
      "==> HLA-B*44:03 (n=3)\n",
      "==> HLA-B*44:05 (n=2)\n",
      "==> HLA-B*46:01 (n=4)\n",
      "==> HLA-B*50:01 (n=2)\n",
      "==> HLA-B*51:01 (n=4)\n",
      "==> HLA-B*52:01 (n=2)\n",
      "==> HLA-B*53:01 (n=5)\n",
      "==> HLA-B*55:01 (n=4)\n",
      "==> HLA-B*55:02 (n=2)\n",
      "==> HLA-B*57:01 (n=17)\n",
      "==> HLA-B*57:03 (n=2)\n",
      "==> HLA-B*58:01 (n=16)\n",
      "==> HLA-C*03:03 (n=1)\n",
      "==> HLA-C*03:04 (n=1)\n",
      "==> HLA-C*06:02 (n=3)\n",
      "==> HLA-C*07:02 (n=3)\n",
      "==> HLA-C*08:01 (n=2)\n",
      "1214 1213\n"
     ]
    }
   ],
   "source": [
    "\n",
    "from collections import OrderedDict\n",
    "columns = OrderedDict([\n",
    "    (\"allele\", []),\n",
    "    (\"peptide\", []),\n",
    "    (\"netmhcpan4_el\", []),\n",
    "    (\"netmhcpan4_el_rank\", []),\n",
    "    (\"netmhcpan4_ba\", []),\n",
    "    (\"netmhcpan4_ba_score\", []),\n",
    "    (\"netmhcpan4_ba_rank\", []),\n",
    "])\n",
    "\n",
    "from mhctools import NetMHCpan4\n",
    "\n",
    "for allele, group in df_tcell_mhcflurry.groupby(\"allele\"):\n",
    "    print(\"==> %s (n=%d)\" % (allele, len(group)))\n",
    "    if allele == \"H2-Dk\":\n",
    "        continue\n",
    "    netmhcpan4_ba = NetMHCpan4(\n",
    "        alleles=[allele],\n",
    "        program_name=\"NetMHCpan-4.0\", mode=\"binding_affinity\")\n",
    "    netmhcpan4_el = NetMHCpan4(\n",
    "        alleles=[allele],\n",
    "        program_name=\"NetMHCpan-4.0\", mode=\"elution_score\")\n",
    "    \n",
    "    for x_ba, x_el in zip(\n",
    "            netmhcpan4_ba.predict_peptides(list(group.peptide)), \n",
    "            netmhcpan4_el.predict_peptides(list(group.peptide))):\n",
    "        p = x_ba.peptide\n",
    "        assert x_el.peptide == p\n",
    "        \n",
    "        columns[\"allele\"].append(allele)\n",
    "        columns[\"peptide\"].append(p)\n",
    "        columns[\"netmhcpan4_el\"].append(x_el.score)\n",
    "        columns[\"netmhcpan4_el_rank\"].append(x_el.percentile_rank)\n",
    "        columns[\"netmhcpan4_ba\"].append(x_ba.affinity)\n",
    "        columns[\"netmhcpan4_ba_score\"].append(x_ba.score)\n",
    "        columns[\"netmhcpan4_ba_rank\"].append(x_ba.percentile_rank)\n",
    "df_pred_netmhcpan4 = pd.DataFrame(columns)\n",
    "df_pred_netmhcpan4.to_csv(\"tcell_virus_tetramer_class1_netmhcpan4_predictions.csv\", index=False)\n",
    "print(len(df_pred_mhcflurry), len(df_pred_netmhcpan4))"
   ]
  },
  {
   "cell_type": "code",
   "execution_count": 112,
   "metadata": {},
   "outputs": [
    {
     "data": {
      "text/plain": [
       "(1214, 1214)"
      ]
     },
     "execution_count": 112,
     "metadata": {},
     "output_type": "execute_result"
    }
   ],
   "source": []
  },
  {
   "cell_type": "code",
   "execution_count": 113,
   "metadata": {},
   "outputs": [
    {
     "name": "stdout",
     "output_type": "stream",
     "text": [
      "0.0\n",
      "0.0\n",
      "1128 679 0.0\n"
     ]
    }
   ],
   "source": [
    "mask = (\n",
    "    (df_tcell_mhcflurry.fraction_entries_positive < 0.3) | \n",
    "    (df_tcell_mhcflurry.fraction_entries_positive > 0.7))\n",
    "print(mask.isnull().mean())\n",
    "mask = mask.values\n",
    "label = (df_tcell_mhcflurry.fraction_entries_positive > 0.5)\n",
    "print(label.isnull().mean())\n",
    "label = label.values\n",
    "label_subset = label[mask].copy()\n",
    "df_pred_subset = df_pred[mask].copy()\n",
    "df_pred_subset[\"label\"] = label_subset\n",
    "df_pred_subset[\"score\"] = np.maximum(\n",
    "    1.0 - np.log10(df_pred_subset.affinity)/np.log10(50*10**3), df_pred_subset.processing_score)\n",
    "print(len(label_subset), label_subset.sum(), df_pred_subset.label.isnull().mean())"
   ]
  },
  {
   "cell_type": "code",
   "execution_count": 133,
   "metadata": {},
   "outputs": [
    {
     "data": {
      "text/plain": [
       "<matplotlib.axes._subplots.AxesSubplot at 0x14e19ae50>"
      ]
     },
     "execution_count": 133,
     "metadata": {},
     "output_type": "execute_result"
    },
    {
     "data": {
      "image/png": "[encoded data removed]",
      "text/plain": [
       "<Figure size 432x288 with 1 Axes>"
      ]
     },
     "metadata": {
      "needs_background": "light"
     },
     "output_type": "display_data"
    }
   ],
   "source": [
    "import seaborn\n",
    "seaborn.violinplot(\n",
    "    data=df_pred_subset, \n",
    "    y=\"processing_score\",\n",
    "    x=\"label\")"
   ]
  },
  {
   "cell_type": "code",
   "execution_count": 115,
   "metadata": {
    "scrolled": true
   },
   "outputs": [],
   "source": [
    "from sklearn.metrics import roc_auc_score, f1_score"
   ]
  },
  {
   "cell_type": "code",
   "execution_count": 116,
   "metadata": {},
   "outputs": [
    {
     "data": {
      "text/plain": [
       "0.6012050998619087"
      ]
     },
     "execution_count": 116,
     "metadata": {},
     "output_type": "execute_result"
    }
   ],
   "source": [
    "roc_auc_score(y_true=label_subset, y_score=df_pred_subset.processing_score.values)"
   ]
  },
  {
   "cell_type": "code",
   "execution_count": 117,
   "metadata": {},
   "outputs": [
    {
     "data": {
      "text/plain": [
       "0.6124229592188172"
      ]
     },
     "execution_count": 117,
     "metadata": {},
     "output_type": "execute_result"
    }
   ],
   "source": [
    "roc_auc_score(y_true=label_subset, y_score=df_pred_subset.presentation_score.values)"
   ]
  },
  {
   "cell_type": "code",
   "execution_count": 118,
   "metadata": {},
   "outputs": [
    {
     "data": {
      "text/plain": [
       "0.5990336896589049"
      ]
     },
     "execution_count": 118,
     "metadata": {},
     "output_type": "execute_result"
    }
   ],
   "source": [
    "roc_auc_score(y_true=label_subset, y_score=-df_pred_subset.affinity.values)"
   ]
  },
  {
   "cell_type": "code",
   "execution_count": 119,
   "metadata": {},
   "outputs": [
    {
     "data": {
      "text/plain": [
       "0.6187846663014849"
      ]
     },
     "execution_count": 119,
     "metadata": {},
     "output_type": "execute_result"
    }
   ],
   "source": [
    "roc_auc_score(y_true=label_subset, y_score=df_pred_subset.score.values)"
   ]
  },
  {
   "cell_type": "code",
   "execution_count": 120,
   "metadata": {},
   "outputs": [
    {
     "data": {
      "text/html": [
       "<div>\n",
       "<style scoped>\n",
       "    .dataframe tbody tr th:only-of-type {\n",
       "        vertical-align: middle;\n",
       "    }\n",
       "\n",
       "    .dataframe tbody tr th {\n",
       "        vertical-align: top;\n",
       "    }\n",
       "\n",
       "    .dataframe thead th {\n",
       "        text-align: right;\n",
       "    }\n",
       "</style>\n",
       "<table border=\"1\" class=\"dataframe\">\n",
       "  <thead>\n",
       "    <tr style=\"text-align: right;\">\n",
       "      <th></th>\n",
       "      <th>allele</th>\n",
       "      <th>peptide</th>\n",
       "      <th>fraction_entries_positive</th>\n",
       "      <th>num_entries</th>\n",
       "      <th>num_entries_with_subjects</th>\n",
       "      <th>num_subjects</th>\n",
       "      <th>num_subjects_positive</th>\n",
       "      <th>fraction_subjects_positive</th>\n",
       "      <th>in_sars2</th>\n",
       "      <th>species_prefix</th>\n",
       "      <th>species</th>\n",
       "      <th>mhc_gene_name</th>\n",
       "      <th>mhc_class</th>\n",
       "      <th>mhcflurry_allele_name</th>\n",
       "    </tr>\n",
       "  </thead>\n",
       "  <tbody>\n",
       "    <tr>\n",
       "      <th>0</th>\n",
       "      <td>H2-Db</td>\n",
       "      <td>AAIENYVRF</td>\n",
       "      <td>1.000000</td>\n",
       "      <td>1</td>\n",
       "      <td>0</td>\n",
       "      <td>0.0</td>\n",
       "      <td>0.0</td>\n",
       "      <td>0.000000</td>\n",
       "      <td>False</td>\n",
       "      <td>H2</td>\n",
       "      <td>mouse</td>\n",
       "      <td>D</td>\n",
       "      <td>I</td>\n",
       "      <td>H-2-Db</td>\n",
       "    </tr>\n",
       "    <tr>\n",
       "      <th>1</th>\n",
       "      <td>H2-Db</td>\n",
       "      <td>AAVKNWMTQTL</td>\n",
       "      <td>1.000000</td>\n",
       "      <td>1</td>\n",
       "      <td>0</td>\n",
       "      <td>0.0</td>\n",
       "      <td>0.0</td>\n",
       "      <td>0.000000</td>\n",
       "      <td>False</td>\n",
       "      <td>H2</td>\n",
       "      <td>mouse</td>\n",
       "      <td>D</td>\n",
       "      <td>I</td>\n",
       "      <td>H-2-Db</td>\n",
       "    </tr>\n",
       "    <tr>\n",
       "      <th>2</th>\n",
       "      <td>H2-Db</td>\n",
       "      <td>AGPHNDMEI</td>\n",
       "      <td>0.863636</td>\n",
       "      <td>22</td>\n",
       "      <td>2</td>\n",
       "      <td>18.0</td>\n",
       "      <td>16.0</td>\n",
       "      <td>0.888889</td>\n",
       "      <td>False</td>\n",
       "      <td>H2</td>\n",
       "      <td>mouse</td>\n",
       "      <td>D</td>\n",
       "      <td>I</td>\n",
       "      <td>H-2-Db</td>\n",
       "    </tr>\n",
       "    <tr>\n",
       "      <th>3</th>\n",
       "      <td>H2-Db</td>\n",
       "      <td>ASNENMDAM</td>\n",
       "      <td>0.578947</td>\n",
       "      <td>19</td>\n",
       "      <td>0</td>\n",
       "      <td>0.0</td>\n",
       "      <td>0.0</td>\n",
       "      <td>0.000000</td>\n",
       "      <td>False</td>\n",
       "      <td>H2</td>\n",
       "      <td>mouse</td>\n",
       "      <td>D</td>\n",
       "      <td>I</td>\n",
       "      <td>H-2-Db</td>\n",
       "    </tr>\n",
       "    <tr>\n",
       "      <th>4</th>\n",
       "      <td>H2-Db</td>\n",
       "      <td>ASNENMDTM</td>\n",
       "      <td>1.000000</td>\n",
       "      <td>3</td>\n",
       "      <td>0</td>\n",
       "      <td>0.0</td>\n",
       "      <td>0.0</td>\n",
       "      <td>0.000000</td>\n",
       "      <td>False</td>\n",
       "      <td>H2</td>\n",
       "      <td>mouse</td>\n",
       "      <td>D</td>\n",
       "      <td>I</td>\n",
       "      <td>H-2-Db</td>\n",
       "    </tr>\n",
       "    <tr>\n",
       "      <th>...</th>\n",
       "      <td>...</td>\n",
       "      <td>...</td>\n",
       "      <td>...</td>\n",
       "      <td>...</td>\n",
       "      <td>...</td>\n",
       "      <td>...</td>\n",
       "      <td>...</td>\n",
       "      <td>...</td>\n",
       "      <td>...</td>\n",
       "      <td>...</td>\n",
       "      <td>...</td>\n",
       "      <td>...</td>\n",
       "      <td>...</td>\n",
       "      <td>...</td>\n",
       "    </tr>\n",
       "    <tr>\n",
       "      <th>1252</th>\n",
       "      <td>HLA-C*07:02</td>\n",
       "      <td>CRVLCCYVL</td>\n",
       "      <td>1.000000</td>\n",
       "      <td>1</td>\n",
       "      <td>0</td>\n",
       "      <td>0.0</td>\n",
       "      <td>0.0</td>\n",
       "      <td>0.000000</td>\n",
       "      <td>False</td>\n",
       "      <td>HLA</td>\n",
       "      <td>human</td>\n",
       "      <td>C</td>\n",
       "      <td>I</td>\n",
       "      <td>HLA-C*07:02</td>\n",
       "    </tr>\n",
       "    <tr>\n",
       "      <th>1253</th>\n",
       "      <td>HLA-C*07:02</td>\n",
       "      <td>FRKDVNMVL</td>\n",
       "      <td>1.000000</td>\n",
       "      <td>1</td>\n",
       "      <td>1</td>\n",
       "      <td>10.0</td>\n",
       "      <td>8.0</td>\n",
       "      <td>0.800000</td>\n",
       "      <td>False</td>\n",
       "      <td>HLA</td>\n",
       "      <td>human</td>\n",
       "      <td>C</td>\n",
       "      <td>I</td>\n",
       "      <td>HLA-C*07:02</td>\n",
       "    </tr>\n",
       "    <tr>\n",
       "      <th>1254</th>\n",
       "      <td>HLA-C*07:02</td>\n",
       "      <td>TPRVTGGGAM</td>\n",
       "      <td>1.000000</td>\n",
       "      <td>1</td>\n",
       "      <td>0</td>\n",
       "      <td>0.0</td>\n",
       "      <td>0.0</td>\n",
       "      <td>0.000000</td>\n",
       "      <td>False</td>\n",
       "      <td>HLA</td>\n",
       "      <td>human</td>\n",
       "      <td>C</td>\n",
       "      <td>I</td>\n",
       "      <td>HLA-C*07:02</td>\n",
       "    </tr>\n",
       "    <tr>\n",
       "      <th>1255</th>\n",
       "      <td>HLA-C*08:01</td>\n",
       "      <td>FLGPLLVLQA</td>\n",
       "      <td>1.000000</td>\n",
       "      <td>1</td>\n",
       "      <td>0</td>\n",
       "      <td>0.0</td>\n",
       "      <td>0.0</td>\n",
       "      <td>0.000000</td>\n",
       "      <td>False</td>\n",
       "      <td>HLA</td>\n",
       "      <td>human</td>\n",
       "      <td>C</td>\n",
       "      <td>I</td>\n",
       "      <td>HLA-C*08:01</td>\n",
       "    </tr>\n",
       "    <tr>\n",
       "      <th>1256</th>\n",
       "      <td>HLA-C*08:01</td>\n",
       "      <td>GILGFVFTL</td>\n",
       "      <td>1.000000</td>\n",
       "      <td>1</td>\n",
       "      <td>1</td>\n",
       "      <td>8.0</td>\n",
       "      <td>8.0</td>\n",
       "      <td>1.000000</td>\n",
       "      <td>False</td>\n",
       "      <td>HLA</td>\n",
       "      <td>human</td>\n",
       "      <td>C</td>\n",
       "      <td>I</td>\n",
       "      <td>HLA-C*08:01</td>\n",
       "    </tr>\n",
       "  </tbody>\n",
       "</table>\n",
       "<p>1229 rows × 14 columns</p>\n",
       "</div>"
      ],
      "text/plain": [
       "           allele      peptide  fraction_entries_positive  num_entries  \\\n",
       "0           H2-Db    AAIENYVRF                   1.000000            1   \n",
       "1           H2-Db  AAVKNWMTQTL                   1.000000            1   \n",
       "2           H2-Db    AGPHNDMEI                   0.863636           22   \n",
       "3           H2-Db    ASNENMDAM                   0.578947           19   \n",
       "4           H2-Db    ASNENMDTM                   1.000000            3   \n",
       "...           ...          ...                        ...          ...   \n",
       "1252  HLA-C*07:02    CRVLCCYVL                   1.000000            1   \n",
       "1253  HLA-C*07:02    FRKDVNMVL                   1.000000            1   \n",
       "1254  HLA-C*07:02   TPRVTGGGAM                   1.000000            1   \n",
       "1255  HLA-C*08:01   FLGPLLVLQA                   1.000000            1   \n",
       "1256  HLA-C*08:01    GILGFVFTL                   1.000000            1   \n",
       "\n",
       "      num_entries_with_subjects  num_subjects  num_subjects_positive  \\\n",
       "0                             0           0.0                    0.0   \n",
       "1                             0           0.0                    0.0   \n",
       "2                             2          18.0                   16.0   \n",
       "3                             0           0.0                    0.0   \n",
       "4                             0           0.0                    0.0   \n",
       "...                         ...           ...                    ...   \n",
       "1252                          0           0.0                    0.0   \n",
       "1253                          1          10.0                    8.0   \n",
       "1254                          0           0.0                    0.0   \n",
       "1255                          0           0.0                    0.0   \n",
       "1256                          1           8.0                    8.0   \n",
       "\n",
       "      fraction_subjects_positive  in_sars2 species_prefix species  \\\n",
       "0                       0.000000     False             H2   mouse   \n",
       "1                       0.000000     False             H2   mouse   \n",
       "2                       0.888889     False             H2   mouse   \n",
       "3                       0.000000     False             H2   mouse   \n",
       "4                       0.000000     False             H2   mouse   \n",
       "...                          ...       ...            ...     ...   \n",
       "1252                    0.000000     False            HLA   human   \n",
       "1253                    0.800000     False            HLA   human   \n",
       "1254                    0.000000     False            HLA   human   \n",
       "1255                    0.000000     False            HLA   human   \n",
       "1256                    1.000000     False            HLA   human   \n",
       "\n",
       "     mhc_gene_name mhc_class mhcflurry_allele_name  \n",
       "0                D         I                H-2-Db  \n",
       "1                D         I                H-2-Db  \n",
       "2                D         I                H-2-Db  \n",
       "3                D         I                H-2-Db  \n",
       "4                D         I                H-2-Db  \n",
       "...            ...       ...                   ...  \n",
       "1252             C         I           HLA-C*07:02  \n",
       "1253             C         I           HLA-C*07:02  \n",
       "1254             C         I           HLA-C*07:02  \n",
       "1255             C         I           HLA-C*08:01  \n",
       "1256             C         I           HLA-C*08:01  \n",
       "\n",
       "[1229 rows x 14 columns]"
      ]
     },
     "execution_count": 120,
     "metadata": {},
     "output_type": "execute_result"
    }
   ],
   "source": [
    "df_tcell_mouse_and_human_class1"
   ]
  },
  {
   "cell_type": "code",
   "execution_count": 121,
   "metadata": {},
   "outputs": [
    {
     "data": {
      "text/html": [
       "<div>\n",
       "<style scoped>\n",
       "    .dataframe tbody tr th:only-of-type {\n",
       "        vertical-align: middle;\n",
       "    }\n",
       "\n",
       "    .dataframe tbody tr th {\n",
       "        vertical-align: top;\n",
       "    }\n",
       "\n",
       "    .dataframe thead th {\n",
       "        text-align: right;\n",
       "    }\n",
       "</style>\n",
       "<table border=\"1\" class=\"dataframe\">\n",
       "  <thead>\n",
       "    <tr style=\"text-align: right;\">\n",
       "      <th></th>\n",
       "      <th>peptide</th>\n",
       "      <th>peptide_num</th>\n",
       "      <th>sample_name</th>\n",
       "      <th>affinity</th>\n",
       "      <th>best_allele</th>\n",
       "      <th>processing_score</th>\n",
       "      <th>presentation_score</th>\n",
       "    </tr>\n",
       "  </thead>\n",
       "  <tbody>\n",
       "    <tr>\n",
       "      <th>0</th>\n",
       "      <td>AAIENYVRF</td>\n",
       "      <td>0</td>\n",
       "      <td>H-2-Db</td>\n",
       "      <td>35.939434</td>\n",
       "      <td>H-2-Db</td>\n",
       "      <td>0.535547</td>\n",
       "      <td>0.915806</td>\n",
       "    </tr>\n",
       "    <tr>\n",
       "      <th>1</th>\n",
       "      <td>AAVKNWMTQTL</td>\n",
       "      <td>1</td>\n",
       "      <td>H-2-Db</td>\n",
       "      <td>54.257879</td>\n",
       "      <td>H-2-Db</td>\n",
       "      <td>0.146693</td>\n",
       "      <td>0.654062</td>\n",
       "    </tr>\n",
       "    <tr>\n",
       "      <th>2</th>\n",
       "      <td>AGPHNDMEI</td>\n",
       "      <td>2</td>\n",
       "      <td>H-2-Db</td>\n",
       "      <td>39.029623</td>\n",
       "      <td>H-2-Db</td>\n",
       "      <td>0.055071</td>\n",
       "      <td>0.646046</td>\n",
       "    </tr>\n",
       "    <tr>\n",
       "      <th>3</th>\n",
       "      <td>ASNENMDAM</td>\n",
       "      <td>3</td>\n",
       "      <td>H-2-Db</td>\n",
       "      <td>28.360595</td>\n",
       "      <td>H-2-Db</td>\n",
       "      <td>0.005191</td>\n",
       "      <td>0.669574</td>\n",
       "    </tr>\n",
       "    <tr>\n",
       "      <th>4</th>\n",
       "      <td>ASNENMDTM</td>\n",
       "      <td>4</td>\n",
       "      <td>H-2-Db</td>\n",
       "      <td>26.689156</td>\n",
       "      <td>H-2-Db</td>\n",
       "      <td>0.005358</td>\n",
       "      <td>0.681474</td>\n",
       "    </tr>\n",
       "    <tr>\n",
       "      <th>...</th>\n",
       "      <td>...</td>\n",
       "      <td>...</td>\n",
       "      <td>...</td>\n",
       "      <td>...</td>\n",
       "      <td>...</td>\n",
       "      <td>...</td>\n",
       "      <td>...</td>\n",
       "    </tr>\n",
       "    <tr>\n",
       "      <th>1209</th>\n",
       "      <td>CRVLCCYVL</td>\n",
       "      <td>1209</td>\n",
       "      <td>HLA-C*07:02</td>\n",
       "      <td>123.605679</td>\n",
       "      <td>HLA-C*07:02</td>\n",
       "      <td>0.001070</td>\n",
       "      <td>0.352100</td>\n",
       "    </tr>\n",
       "    <tr>\n",
       "      <th>1210</th>\n",
       "      <td>FRKDVNMVL</td>\n",
       "      <td>1210</td>\n",
       "      <td>HLA-C*07:02</td>\n",
       "      <td>34.151154</td>\n",
       "      <td>HLA-C*07:02</td>\n",
       "      <td>0.356372</td>\n",
       "      <td>0.857338</td>\n",
       "    </tr>\n",
       "    <tr>\n",
       "      <th>1211</th>\n",
       "      <td>TPRVTGGGAM</td>\n",
       "      <td>1211</td>\n",
       "      <td>HLA-C*07:02</td>\n",
       "      <td>4672.527432</td>\n",
       "      <td>HLA-C*07:02</td>\n",
       "      <td>0.390996</td>\n",
       "      <td>0.080797</td>\n",
       "    </tr>\n",
       "    <tr>\n",
       "      <th>1212</th>\n",
       "      <td>FLGPLLVLQA</td>\n",
       "      <td>1212</td>\n",
       "      <td>HLA-C*08:01</td>\n",
       "      <td>5290.585710</td>\n",
       "      <td>HLA-C*08:01</td>\n",
       "      <td>0.217904</td>\n",
       "      <td>0.040771</td>\n",
       "    </tr>\n",
       "    <tr>\n",
       "      <th>1213</th>\n",
       "      <td>GILGFVFTL</td>\n",
       "      <td>1213</td>\n",
       "      <td>HLA-C*08:01</td>\n",
       "      <td>167.010418</td>\n",
       "      <td>HLA-C*08:01</td>\n",
       "      <td>0.163353</td>\n",
       "      <td>0.426138</td>\n",
       "    </tr>\n",
       "  </tbody>\n",
       "</table>\n",
       "<p>1214 rows × 7 columns</p>\n",
       "</div>"
      ],
      "text/plain": [
       "          peptide  peptide_num  sample_name     affinity  best_allele  \\\n",
       "0       AAIENYVRF            0       H-2-Db    35.939434       H-2-Db   \n",
       "1     AAVKNWMTQTL            1       H-2-Db    54.257879       H-2-Db   \n",
       "2       AGPHNDMEI            2       H-2-Db    39.029623       H-2-Db   \n",
       "3       ASNENMDAM            3       H-2-Db    28.360595       H-2-Db   \n",
       "4       ASNENMDTM            4       H-2-Db    26.689156       H-2-Db   \n",
       "...           ...          ...          ...          ...          ...   \n",
       "1209    CRVLCCYVL         1209  HLA-C*07:02   123.605679  HLA-C*07:02   \n",
       "1210    FRKDVNMVL         1210  HLA-C*07:02    34.151154  HLA-C*07:02   \n",
       "1211   TPRVTGGGAM         1211  HLA-C*07:02  4672.527432  HLA-C*07:02   \n",
       "1212   FLGPLLVLQA         1212  HLA-C*08:01  5290.585710  HLA-C*08:01   \n",
       "1213    GILGFVFTL         1213  HLA-C*08:01   167.010418  HLA-C*08:01   \n",
       "\n",
       "      processing_score  presentation_score  \n",
       "0             0.535547            0.915806  \n",
       "1             0.146693            0.654062  \n",
       "2             0.055071            0.646046  \n",
       "3             0.005191            0.669574  \n",
       "4             0.005358            0.681474  \n",
       "...                ...                 ...  \n",
       "1209          0.001070            0.352100  \n",
       "1210          0.356372            0.857338  \n",
       "1211          0.390996            0.080797  \n",
       "1212          0.217904            0.040771  \n",
       "1213          0.163353            0.426138  \n",
       "\n",
       "[1214 rows x 7 columns]"
      ]
     },
     "execution_count": 121,
     "metadata": {},
     "output_type": "execute_result"
    }
   ],
   "source": [
    "df_pred"
   ]
  },
  {
   "cell_type": "code",
   "execution_count": 122,
   "metadata": {},
   "outputs": [],
   "source": [
    "def f(x):\n",
    "    return 1/(1 + np.exp( (3.5 * 10 **-4.0) * (x - 3)))"
   ]
  },
  {
   "cell_type": "code",
   "execution_count": 123,
   "metadata": {},
   "outputs": [
    {
     "data": {
      "text/plain": [
       "0.029342121196204007"
      ]
     },
     "execution_count": 123,
     "metadata": {},
     "output_type": "execute_result"
    }
   ],
   "source": [
    "f(10000)"
   ]
  },
  {
   "cell_type": "code",
   "execution_count": 124,
   "metadata": {},
   "outputs": [],
   "source": [
    "xs = [1, 10, 100, 1000, 5000, 10000, 20000, 100000]\n",
    "ys = [f(x) for x in xs]"
   ]
  },
  {
   "cell_type": "code",
   "execution_count": 125,
   "metadata": {},
   "outputs": [],
   "source": [
    "import seaborn"
   ]
  },
  {
   "cell_type": "code",
   "execution_count": 126,
   "metadata": {},
   "outputs": [
    {
     "data": {
      "text/plain": [
       "<matplotlib.axes._subplots.AxesSubplot at 0x14b99e6d0>"
      ]
     },
     "execution_count": 126,
     "metadata": {},
     "output_type": "execute_result"
    },
    {
     "data": {
      "image/png": "[encoded data removed]",
      "text/plain": [
       "<Figure size 432x288 with 1 Axes>"
      ]
     },
     "metadata": {
      "needs_background": "light"
     },
     "output_type": "display_data"
    }
   ],
   "source": [
    "seaborn.scatterplot(np.log10(xs), ys)"
   ]
  },
  {
   "cell_type": "code",
   "execution_count": 127,
   "metadata": {},
   "outputs": [
    {
     "data": {
      "text/plain": [
       "<matplotlib.axes._subplots.AxesSubplot at 0x14ba26250>"
      ]
     },
     "execution_count": 127,
     "metadata": {},
     "output_type": "execute_result"
    },
    {
     "data": {
      "image/png": "[encoded data removed]",
      "text/plain": [
       "<Figure size 432x288 with 1 Axes>"
      ]
     },
     "metadata": {
      "needs_background": "light"
     },
     "output_type": "display_data"
    }
   ],
   "source": [
    "import seaborn \n",
    "seaborn.distplot(df_tcell[df_tcell[\"mhc_class\"] == \"II\"].fraction_entries_positive)"
   ]
  },
  {
   "cell_type": "code",
   "execution_count": null,
   "metadata": {},
   "outputs": [],
   "source": []
  },
  {
   "cell_type": "code",
   "execution_count": 73,
   "metadata": {},
   "outputs": [],
   "source": []
  },
  {
   "cell_type": "code",
   "execution_count": 74,
   "metadata": {},
   "outputs": [],
   "source": []
  },
  {
   "cell_type": "code",
   "execution_count": 78,
   "metadata": {},
   "outputs": [
    {
     "data": {
      "text/plain": [
       "HLA-DRA*01:01/DRB1*04:01    119\n",
       "HLA-DRB1*01:02               61\n",
       "HLA-DRB1*03:01               61\n",
       "HLA-DRA*01:01/DRB1*04:04     55\n",
       "HLA-DRB1*15:01               12\n",
       "HLA-DRB5*01:01               10\n",
       "HLA-DRB1*04:01                9\n",
       "HLA-DRB1*01:03                8\n",
       "HLA-DRB1*01:01                6\n",
       "H2-IAb                        2\n",
       "HLA-DRB1*11:01                2\n",
       "HLA-DRB1*08:01                1\n",
       "HLA-DRB1*07:01                1\n",
       "H2-IA                         1\n",
       "Name: allele, dtype: int64"
      ]
     },
     "execution_count": 78,
     "metadata": {},
     "output_type": "execute_result"
    }
   ],
   "source": []
  },
  {
   "cell_type": "code",
   "execution_count": 77,
   "metadata": {},
   "outputs": [
    {
     "data": {
      "text/plain": [
       "HLA-DRB1*01:01              137\n",
       "HLA-DRB1*11:01              126\n",
       "HLA-DRB1*04:01              110\n",
       "HLA-DRB1*07:01               95\n",
       "HLA-DRB1*15:01               85\n",
       "HLA-DRB1*04:04               74\n",
       "HLA-DRB1*03:01               67\n",
       "HLA-DRB5*01:01               65\n",
       "HLA-DRB1*01:03               25\n",
       "HLA-DRA*01:01/DRB1*04:01     25\n",
       "HLA-DRA*01:01/DRB1*07:01     24\n",
       "H2-IAb                       20\n",
       "HLA-DRB1*11:04               18\n",
       "HLA-DRB1*08:01               15\n",
       "HLA-DRA*01:01/DRB1*04:04     12\n",
       "HLA-DRB1*15:02               12\n",
       "HLA-DRA*01:01/DRB1*01:01     11\n",
       "HLA-DRB1*14:01               11\n",
       "HLA-DRB1*13:01                8\n",
       "HLA-DRB3*02:02                7\n",
       "HLA-DRB1*01:02                4\n",
       "HLA-DRB1*13:02                3\n",
       "H2-IAd                        3\n",
       "HLA-DRB1*09:01                3\n",
       "HLA-DQB1*06:02                3\n",
       "HLA-DRB1*12:01                2\n",
       "HLA-DRB3*01:01                1\n",
       "HLA-DPB1*04:01                1\n",
       "Patr-DRB5*03:10               1\n",
       "Name: allele, dtype: int64"
      ]
     },
     "execution_count": 77,
     "metadata": {},
     "output_type": "execute_result"
    }
   ],
   "source": []
  },
  {
   "cell_type": "code",
   "execution_count": null,
   "metadata": {},
   "outputs": [],
   "source": []
  },
  {
   "cell_type": "code",
   "execution_count": null,
   "metadata": {},
   "outputs": [],
   "source": []
  }
 ],
 "metadata": {
  "kernelspec": {
   "display_name": "Python 3",
   "language": "python",
   "name": "python3"
  },
  "language_info": {
   "codemirror_mode": {
    "name": "ipython",
    "version": 3
   },
   "file_extension": ".py",
   "mimetype": "text/x-python",
   "name": "python",
   "nbconvert_exporter": "python",
   "pygments_lexer": "ipython3",
   "version": "3.7.5"
  }
 },
 "nbformat": 4,
 "nbformat_minor": 2
}
