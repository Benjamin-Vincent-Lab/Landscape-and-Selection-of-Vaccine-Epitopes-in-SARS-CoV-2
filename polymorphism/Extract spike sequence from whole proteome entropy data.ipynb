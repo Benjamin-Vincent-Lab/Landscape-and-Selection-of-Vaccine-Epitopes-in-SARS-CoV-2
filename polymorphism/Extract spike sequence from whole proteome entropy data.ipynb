{
 "cells": [
  {
   "cell_type": "code",
   "execution_count": 2,
   "metadata": {},
   "outputs": [
    {
     "name": "stdout",
     "output_type": "stream",
     "text": [
      "\u001b[31mAA_mafft_df_entropy.txt\u001b[m\u001b[m*\r\n",
      "\u001b[31mAA_sequence.txt\u001b[m\u001b[m*\r\n",
      "\u001b[31mAA_sequence_combined.txt\u001b[m\u001b[m*\r\n",
      "\u001b[31mCOVID_combined_entropy_rank_filtered.csv\u001b[m\u001b[m*\r\n",
      "\u001b[31mCOVID_human_MARIA.txt\u001b[m\u001b[m*\r\n",
      "\u001b[31mCOVID_human_netMHCIIpan_rank_filtered.txt\u001b[m\u001b[m*\r\n",
      "\u001b[31mCOVID_human_netMHCpan_rank_filtered.txt\u001b[m\u001b[m*\r\n",
      "COVID_murine_NetMHCIIpan_unfilt.xls\r\n",
      "COVID_murine_NetMHCpan_unfilt.xls\r\n",
      "\u001b[31mHLA_freq.txt\u001b[m\u001b[m*\r\n",
      "\u001b[34mNetMHC_pan_out_rank\u001b[m\u001b[m/\r\n",
      "\u001b[34mNetMHCpan_out_filt\u001b[m\u001b[m/\r\n",
      "\u001b[31mPEPperPRINT_IgA.txt\u001b[m\u001b[m*\r\n",
      "\u001b[31mPEPperPRINT_IgA_DESeq2.txt\u001b[m\u001b[m*\r\n",
      "\u001b[31mPEPperPRINT_IgG.txt\u001b[m\u001b[m*\r\n",
      "\u001b[31mPEPperPRINT_IgG_DESeq2.txt\u001b[m\u001b[m*\r\n",
      "\u001b[31mPEPperPRINT_peptide_key.txt\u001b[m\u001b[m*\r\n",
      "\u001b[31mPEPperPRINT_sample_info.txt\u001b[m\u001b[m*\r\n",
      "\u001b[34mSupplemental\u001b[m\u001b[m/\r\n",
      "\u001b[31mTable_1.txt\u001b[m\u001b[m*\r\n",
      "\u001b[31mTranslation_coords.txt\u001b[m\u001b[m*\r\n",
      "\u001b[31ment_vs_prop.txt\u001b[m\u001b[m*\r\n",
      "\u001b[31mentropy_7882.txt\u001b[m\u001b[m*\r\n",
      "\u001b[31mfiltered_cast_sars-cov-2.mhcflurry_predictions.csv\u001b[m\u001b[m*\r\n"
     ]
    }
   ],
   "source": [
    "ls ../Figures/COVID"
   ]
  },
  {
   "cell_type": "code",
   "execution_count": 4,
   "metadata": {},
   "outputs": [],
   "source": [
    "df_entropy = pd.read_csv(\"../Figures/COVID/entropy_7882.txt\")"
   ]
  },
  {
   "cell_type": "code",
   "execution_count": 6,
   "metadata": {},
   "outputs": [
    {
     "data": {
      "text/html": [
       "<div>\n",
       "<style scoped>\n",
       "    .dataframe tbody tr th:only-of-type {\n",
       "        vertical-align: middle;\n",
       "    }\n",
       "\n",
       "    .dataframe tbody tr th {\n",
       "        vertical-align: top;\n",
       "    }\n",
       "\n",
       "    .dataframe thead th {\n",
       "        text-align: right;\n",
       "    }\n",
       "</style>\n",
       "<table border=\"1\" class=\"dataframe\">\n",
       "  <thead>\n",
       "    <tr style=\"text-align: right;\">\n",
       "      <th></th>\n",
       "      <th>V1</th>\n",
       "      <th>V2</th>\n",
       "    </tr>\n",
       "  </thead>\n",
       "  <tbody>\n",
       "    <tr>\n",
       "      <th>0</th>\n",
       "      <td>1</td>\n",
       "      <td>0.001287</td>\n",
       "    </tr>\n",
       "    <tr>\n",
       "      <th>1</th>\n",
       "      <td>2</td>\n",
       "      <td>0.000000</td>\n",
       "    </tr>\n",
       "    <tr>\n",
       "      <th>2</th>\n",
       "      <td>3</td>\n",
       "      <td>0.001287</td>\n",
       "    </tr>\n",
       "    <tr>\n",
       "      <th>3</th>\n",
       "      <td>4</td>\n",
       "      <td>0.003433</td>\n",
       "    </tr>\n",
       "    <tr>\n",
       "      <th>4</th>\n",
       "      <td>5</td>\n",
       "      <td>0.000000</td>\n",
       "    </tr>\n",
       "    <tr>\n",
       "      <th>...</th>\n",
       "      <td>...</td>\n",
       "      <td>...</td>\n",
       "    </tr>\n",
       "    <tr>\n",
       "      <th>9696</th>\n",
       "      <td>9697</td>\n",
       "      <td>0.000000</td>\n",
       "    </tr>\n",
       "    <tr>\n",
       "      <th>9697</th>\n",
       "      <td>9698</td>\n",
       "      <td>0.001293</td>\n",
       "    </tr>\n",
       "    <tr>\n",
       "      <th>9698</th>\n",
       "      <td>9699</td>\n",
       "      <td>0.002587</td>\n",
       "    </tr>\n",
       "    <tr>\n",
       "      <th>9699</th>\n",
       "      <td>9700</td>\n",
       "      <td>0.002424</td>\n",
       "    </tr>\n",
       "    <tr>\n",
       "      <th>9700</th>\n",
       "      <td>9701</td>\n",
       "      <td>0.001303</td>\n",
       "    </tr>\n",
       "  </tbody>\n",
       "</table>\n",
       "<p>9701 rows × 2 columns</p>\n",
       "</div>"
      ],
      "text/plain": [
       "        V1        V2\n",
       "0        1  0.001287\n",
       "1        2  0.000000\n",
       "2        3  0.001287\n",
       "3        4  0.003433\n",
       "4        5  0.000000\n",
       "...    ...       ...\n",
       "9696  9697  0.000000\n",
       "9697  9698  0.001293\n",
       "9698  9699  0.002587\n",
       "9699  9700  0.002424\n",
       "9700  9701  0.001303\n",
       "\n",
       "[9701 rows x 2 columns]"
      ]
     },
     "execution_count": 6,
     "metadata": {},
     "output_type": "execute_result"
    }
   ],
   "source": [
    "df_entropy"
   ]
  },
  {
   "cell_type": "code",
   "execution_count": 7,
   "metadata": {},
   "outputs": [],
   "source": [
    "protein_locations = {\n",
    " \"orf1ab\": (1, 7096),\n",
    " \"S\": (7097, 8369),\n",
    " \"ORF3a\": (8370, 8644),\n",
    " \"E\": (8645, 8719),\n",
    " \"M\": (8720, 8941),                                                                       \n",
    " \"ORF6\": (8942, 9002),\n",
    " \"ORF7a\": (9003, 9123),                                                                   \n",
    " \"ORF8\": (9124, 9244),\n",
    " \"N\": (9245, 9663),\n",
    " \"ORF10\": (9664, 9701),\n",
    "}"
   ]
  },
  {
   "cell_type": "code",
   "execution_count": 8,
   "metadata": {},
   "outputs": [],
   "source": [
    "# sanity check that D614 has high entropy\n",
    "df_entropy_S = df_entropy[(df_entropy[\"V1\"] >= 7097) & (df_entropy[\"V1\"] <= 8369)]"
   ]
  },
  {
   "cell_type": "code",
   "execution_count": 9,
   "metadata": {},
   "outputs": [
    {
     "data": {
      "text/plain": [
       "1273"
      ]
     },
     "execution_count": 9,
     "metadata": {},
     "output_type": "execute_result"
    }
   ],
   "source": [
    "len(df_entropy_S)"
   ]
  },
  {
   "cell_type": "code",
   "execution_count": 10,
   "metadata": {},
   "outputs": [],
   "source": [
    "df_entropy_S = df_entropy_S.rename(columns={\"V1\": \"aa_num\", \"V2\": \"entropy\"})"
   ]
  },
  {
   "cell_type": "code",
   "execution_count": 12,
   "metadata": {},
   "outputs": [],
   "source": [
    "df_entropy_S.aa_num -= 7096"
   ]
  },
  {
   "cell_type": "code",
   "execution_count": 14,
   "metadata": {},
   "outputs": [],
   "source": [
    "df_entropy_S = df_entropy_S.set_index(\"aa_num\")"
   ]
  },
  {
   "cell_type": "code",
   "execution_count": 48,
   "metadata": {},
   "outputs": [
    {
     "data": {
      "text/plain": [
       "entropy    0.685863\n",
       "Name: 614, dtype: float64"
      ]
     },
     "execution_count": 48,
     "metadata": {},
     "output_type": "execute_result"
    }
   ],
   "source": [
    "df_entropy_S.loc[614]"
   ]
  },
  {
   "cell_type": "code",
   "execution_count": 71,
   "metadata": {},
   "outputs": [],
   "source": [
    "df_entropy_S.to_csv(\"spike_protein_entropy.csv\")"
   ]
  },
  {
   "cell_type": "code",
   "execution_count": 79,
   "metadata": {},
   "outputs": [
    {
     "name": "stdout",
     "output_type": "stream",
     "text": [
      "0.0454146923337941\n",
      "aa_num,entropy\r\n",
      "614,0.685863195093004\r\n",
      "1263,0.0460685156879794\r\n"
     ]
    }
   ],
   "source": [
    "p = 0.005;\n",
    "entropy_cutoff_5_per_thousand = (-p * np.log2(p)) + (-(1-p) * np.log2(1-p))\n",
    "print(entropy_cutoff_5_per_thousand)\n",
    "df_entropy_S[df_entropy_S.entropy > entropy_cutoff_5_per_thousand].to_csv(\"spike_protein_entropy_above_5_per_thousand.csv\")\n",
    "!cat spike_protein_entropy_above_5_per_thousand.csv"
   ]
  },
  {
   "cell_type": "code",
   "execution_count": 80,
   "metadata": {},
   "outputs": [
    {
     "name": "stdout",
     "output_type": "stream",
     "text": [
      "0.011407757737461138\n",
      "aa_num,entropy\r\n",
      "5,0.0351651118824813\r\n",
      "8,0.0298166364338022\r\n",
      "27,0.0121131524235059\r\n",
      "32,0.011556760284333\r\n",
      "49,0.0121244221931454\r\n",
      "50,0.023640659813942002\r\n",
      "54,0.0201147619309735\r\n",
      "71,0.012088854535778999\r\n",
      "76,0.0151879223988071\r\n",
      "153,0.0129168964429582\r\n",
      "221,0.0122706537219956\r\n",
      "254,0.0160340742657222\r\n",
      "367,0.0139678894152052\r\n",
      "483,0.0246148324746742\r\n",
      "519,0.0119767035247482\r\n",
      "614,0.685863195093004\r\n",
      "615,0.0131187354468836\r\n",
      "675,0.0151391251178667\r\n",
      "688,0.0119932495660418\r\n",
      "765,0.011526983752826\r\n",
      "831,0.0243841972881166\r\n",
      "839,0.0240365155581506\r\n",
      "936,0.0345905030020576\r\n",
      "943,0.020552767629714\r\n",
      "1078,0.0135328249920637\r\n",
      "1084,0.0132515415381407\r\n",
      "1263,0.0460685156879794\r\n"
     ]
    }
   ],
   "source": [
    "p = 0.001;\n",
    "entropy_cutoff_1_per_thousand = (-p * np.log2(p)) + (-(1-p) * np.log2(1-p))\n",
    "print(entropy_cutoff_1_per_thousand)\n",
    "df_entropy_S[df_entropy_S.entropy > entropy_cutoff_1_per_thousand].to_csv(\"spike_protein_entropy_above_1_per_thousand.csv\")\n",
    "!cat spike_protein_entropy_above_1_per_thousand.csv"
   ]
  },
  {
   "cell_type": "code",
   "execution_count": 81,
   "metadata": {},
   "outputs": [
    {
     "name": "stdout",
     "output_type": "stream",
     "text": [
      "0.020814071335501033\n",
      "aa_num,entropy\r\n",
      "5,0.0351651118824813\r\n",
      "8,0.0298166364338022\r\n",
      "27,0.0121131524235059\r\n",
      "32,0.011556760284333\r\n",
      "49,0.0121244221931454\r\n",
      "50,0.023640659813942002\r\n",
      "54,0.0201147619309735\r\n",
      "71,0.012088854535778999\r\n",
      "76,0.0151879223988071\r\n",
      "153,0.0129168964429582\r\n",
      "221,0.0122706537219956\r\n",
      "254,0.0160340742657222\r\n",
      "367,0.0139678894152052\r\n",
      "483,0.0246148324746742\r\n",
      "519,0.0119767035247482\r\n",
      "614,0.685863195093004\r\n",
      "615,0.0131187354468836\r\n",
      "675,0.0151391251178667\r\n",
      "688,0.0119932495660418\r\n",
      "765,0.011526983752826\r\n",
      "831,0.0243841972881166\r\n",
      "839,0.0240365155581506\r\n",
      "936,0.0345905030020576\r\n",
      "943,0.020552767629714\r\n",
      "1078,0.0135328249920637\r\n",
      "1084,0.0132515415381407\r\n",
      "1263,0.0460685156879794\r\n"
     ]
    }
   ],
   "source": [
    "p = 0.002;\n",
    "entropy_cutoff_2_per_thousand = (-p * np.log2(p)) + (-(1-p) * np.log2(1-p))\n",
    "print(entropy_cutoff_2_per_thousand)\n",
    "df_entropy_S[df_entropy_S.entropy > entropy_cutoff_1_per_thousand].to_csv(\"spike_protein_entropy_above_2_per_thousand.csv\")\n",
    "!cat spike_protein_entropy_above_2_per_thousand.csv"
   ]
  },
  {
   "cell_type": "code",
   "execution_count": null,
   "metadata": {},
   "outputs": [],
   "source": []
  },
  {
   "cell_type": "code",
   "execution_count": null,
   "metadata": {},
   "outputs": [],
   "source": []
  }
 ],
 "metadata": {
  "kernelspec": {
   "display_name": "Python 3",
   "language": "python",
   "name": "python3"
  },
  "language_info": {
   "codemirror_mode": {
    "name": "ipython",
    "version": 3
   },
   "file_extension": ".py",
   "mimetype": "text/x-python",
   "name": "python",
   "nbconvert_exporter": "python",
   "pygments_lexer": "ipython3",
   "version": "3.7.5"
  }
 },
 "nbformat": 4,
 "nbformat_minor": 2
}
