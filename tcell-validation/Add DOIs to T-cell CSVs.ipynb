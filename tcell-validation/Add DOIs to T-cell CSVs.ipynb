{
 "cells": [
  {
   "cell_type": "code",
   "execution_count": 2,
   "id": "feae018b",
   "metadata": {},
   "outputs": [],
   "source": [
    "import pandas as pd\n",
    "from glob import glob\n"
   ]
  },
  {
   "cell_type": "code",
   "execution_count": 10,
   "id": "897a9008",
   "metadata": {},
   "outputs": [],
   "source": [
    "doi_map = {\n",
    "    \"Tarke\": \"10.1101/2020.12.08.416750\",\n",
    "    \"Le Bert\": \"10.1038/s41586-020-2550-z\",\n",
    "    \"Nelde\": \"10.1038/s41590-020-00808-x\",\n",
    "    \"Schulien\": \"10.1038/s41591-020-01143-2\",\n",
    "    \"Shomuradova\": \"10.1016/j.immuni.2020.11.004\",\n",
    "    \"Snyder\": \"10.1101/2020.07.31.20165647\",\n",
    "    \"Peng\": \"10.1038/s41590-020-0782-6\",\n",
    "    \"Ferretti\": \"10.2139/ssrn.3669387\",\n",
    "    \"Minervina\": \"10.7554/eLife.63502\",\n",
    "    \"Chour\": \"10.1101/2020.05.04.20085779\",\n",
    "}"
   ]
  },
  {
   "cell_type": "code",
   "execution_count": 20,
   "id": "a38251d2",
   "metadata": {},
   "outputs": [
    {
     "name": "stdout",
     "output_type": "stream",
     "text": [
      "2021-01-06-published-sars-cov2-tcell-epitopes-corrected-protein-names.csv\n",
      "['Chour' 'Ferretti' 'Le Bert' 'Minervina' 'Nelde' 'Peng' 'Schulien'\n",
      " 'Shomuradova' 'Smith' 'Snyder' 'Tarke' 'Zhang']\n",
      "Wrote 2021-01-06-published-sars-cov2-tcell-epitopes-corrected-protein-names-doi.csv\n",
      "2020-12-31-published-sars-cov2-tcell-epitopes-corrected-protein-names.csv\n",
      "['Chour' 'Ferretti' 'Le Bert' 'Minervina' 'Nelde' 'Peng' 'Schulien'\n",
      " 'Shomuradova' 'Smith' 'Snyder' 'Tarke' 'Zhang']\n",
      "Wrote 2020-12-31-published-sars-cov2-tcell-epitopes-corrected-protein-names-doi.csv\n"
     ]
    }
   ],
   "source": [
    "\n",
    "for filename in glob(\"*protein-names.csv\"):\n",
    "    print(filename)\n",
    "    df = pd.read_csv(filename)\n",
    "    df_with_doi = df.copy()\n",
    "    df_with_doi[\"DOI\"] = df[\"Source\"].map(doi_map)\n",
    "    print(df_with_doi[\"Source\"].unique())\n",
    "    filename_doi = filename[:-4] + \"-doi.csv\"\n",
    "    df_with_doi.to_csv(filename_doi, index=False)\n",
    "    print(f\"Wrote {filename_doi}\")"
   ]
  },
  {
   "cell_type": "code",
   "execution_count": null,
   "id": "107d167d",
   "metadata": {},
   "outputs": [],
   "source": []
  },
  {
   "cell_type": "code",
   "execution_count": null,
   "id": "8f146d74",
   "metadata": {},
   "outputs": [],
   "source": []
  }
 ],
 "metadata": {
  "kernelspec": {
   "display_name": "Python 3",
   "language": "python",
   "name": "python3"
  },
  "language_info": {
   "codemirror_mode": {
    "name": "ipython",
    "version": 3
   },
   "file_extension": ".py",
   "mimetype": "text/x-python",
   "name": "python",
   "nbconvert_exporter": "python",
   "pygments_lexer": "ipython3",
   "version": "3.9.5"
  }
 },
 "nbformat": 4,
 "nbformat_minor": 5
}
