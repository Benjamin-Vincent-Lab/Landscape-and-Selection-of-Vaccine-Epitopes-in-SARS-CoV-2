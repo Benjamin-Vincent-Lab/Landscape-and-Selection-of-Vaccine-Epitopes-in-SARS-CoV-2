{
 "cells": [
  {
   "cell_type": "code",
   "execution_count": 30,
   "metadata": {},
   "outputs": [
    {
     "name": "stdout",
     "output_type": "stream",
     "text": [
      "Bc_epitopes_HLA_overlap-05-06-20.txt  Window_21mer-05-06-20.txt\r\n",
      "Select vaccine peptides.ipynb         Window_21mer-05-07-20.csv\r\n",
      "Window_15mer-05-06-20.txt             Window_27mer-05-06-20.txt\r\n",
      "Window_15mer-05-07-20.csv             Window_27mer-05-07-20.csv\r\n"
     ]
    }
   ],
   "source": [
    "ls"
   ]
  },
  {
   "cell_type": "code",
   "execution_count": 31,
   "metadata": {},
   "outputs": [],
   "source": [
    "df_21mer = pd.read_csv(\"Window_21mer-05-07-20.csv\")\n"
   ]
  },
  {
   "cell_type": "code",
   "execution_count": 32,
   "metadata": {},
   "outputs": [],
   "source": [
    "df_27mer = pd.read_csv(\"Window_27mer-05-07-20.csv\")\n"
   ]
  },
  {
   "cell_type": "code",
   "execution_count": 33,
   "metadata": {},
   "outputs": [],
   "source": [
    "df_15mer = pd.read_csv(\"Window_15mer-05-07-20.csv\")\n"
   ]
  },
  {
   "cell_type": "code",
   "execution_count": 34,
   "metadata": {},
   "outputs": [],
   "source": [
    "bad_dipeptides_unc = {\n",
    "   \"DG\", \n",
    "   \"DS\", \n",
    "   \"DN\", \n",
    "   \"DD\", \n",
    "   \"NN\", \n",
    "   \"ND\", \n",
    "   \"NG\", \n",
    "   \"NS\",\n",
    "}\n",
    "\n",
    "bad_dipeptides_jpt = {\"NP\"}"
   ]
  },
  {
   "cell_type": "code",
   "execution_count": 35,
   "metadata": {},
   "outputs": [],
   "source": [
    "hydropathy_dict = {\n",
    "    \"A\": 1.8,\n",
    "    \"C\": 2.5,\n",
    "    \"D\": -3.5,\n",
    "    \"E\": -3.5,\n",
    "    \"F\": 2.8,\n",
    "    \"G\": -0.4,\n",
    "    \"H\": -3.2,\n",
    "    \"I\": 4.5,\n",
    "    \"K\": -3.9,\n",
    "    \"L\": 3.8,\n",
    "    \"M\": 1.9,\n",
    "    \"N\": -3.5,\n",
    "    \"P\": -1.6,\n",
    "    \"Q\": -3.5,\n",
    "    \"R\": -4.5,\n",
    "    \"S\": -0.8,\n",
    "    \"T\": -0.7,\n",
    "    \"V\": 4.2,\n",
    "    \"W\": -0.9,\n",
    "    \"Y\": -1.3\n",
    "}"
   ]
  },
  {
   "cell_type": "code",
   "execution_count": 48,
   "metadata": {},
   "outputs": [],
   "source": [
    "\n",
    "def gravy_score(amino_acids):\n",
    "    \"\"\"\n",
    "    Mean amino acid hydropathy averaged across residues of a peptide\n",
    "    or protein sequence.\n",
    "    \"\"\"\n",
    "    total = 0 \n",
    "    for aa in amino_acids:\n",
    "        total += hydropathy_dict[aa]\n",
    "    return total / len(amino_acids)\n"
   ]
  },
  {
   "cell_type": "code",
   "execution_count": 49,
   "metadata": {},
   "outputs": [],
   "source": [
    "\n",
    "def max_kmer_gravy_score(amino_acids, k):\n",
    "    \"\"\"\n",
    "    Returns max GRAVY score of any kmer in the amino acid sequence,\n",
    "    used to determine if there are any extremely hydrophobic regions within a\n",
    "    longer amino acid sequence.\n",
    "    \"\"\"\n",
    "    return max(\n",
    "        gravy_score(amino_acids[i:i + k])\n",
    "        for i in range(len(amino_acids) - k + 1))\n"
   ]
  },
  {
   "cell_type": "code",
   "execution_count": 59,
   "metadata": {},
   "outputs": [],
   "source": [
    "def max_short_subsequence_gravy_score(amino_acids):\n",
    "    gravy_scores = [\n",
    "        max_kmer_gravy_score(amino_acids, k)\n",
    "        for k in [5, 6, 7, 8]\n",
    "    ]\n",
    "    return max(gravy_scores)\n"
   ]
  },
  {
   "cell_type": "code",
   "execution_count": null,
   "metadata": {},
   "outputs": [],
   "source": []
  },
  {
   "cell_type": "code",
   "execution_count": 60,
   "metadata": {},
   "outputs": [],
   "source": [
    "\n",
    "\n",
    "def difficult_c_terminal(amino_acids):\n",
    "    return amino_acids[-1] in {\"P\", \"C\", \"H\"}\n",
    "\n",
    "def difficult_n_terminal(amino_acids):\n",
    "    \"\"\"\n",
    "    Is the N-terminus one of {Gln, Glu, Cys}?\n",
    "    ---\n",
    "    Priority I: avoid N-terminal Gln, Glu, Cys\n",
    "    Priority II: Asparagine at the N-terminus of a peptide is also hard\n",
    "    to synthesize, though not as bad as {Gln, Glu, Cys}\n",
    "    \"\"\"\n",
    "    return amino_acids[0] in {\"Q\", \"E\", \"C\", \"N\"}\n",
    "\n",
    "\n",
    "def cysteine_count(amino_acids):\n",
    "    \"\"\"\n",
    "    How many cysteines are in the amino acid sequence?\n",
    "    Problem with cysteine residues: They can form disulfide bonds across\n",
    "    distant parts of the peptide\n",
    "    \"\"\"\n",
    "    return amino_acids.count(\"C\")\n",
    "\n",
    "def num_difficult_dipeptides(amino_acids):\n",
    "    total = 0\n",
    "    for dipeptide in bad_dipeptides_unc.union(bad_dipeptides_jpt):\n",
    "        total += amino_acids.count(dipeptide)\n",
    "    return total"
   ]
  },
  {
   "cell_type": "code",
   "execution_count": 74,
   "metadata": {},
   "outputs": [],
   "source": [
    "def annotate(df):\n",
    "    df = df.copy()\n",
    "    df[\"num_difficult_dipeptides\"] = df.Sequence.map(num_difficult_dipeptides)\n",
    "    df[\"num_cysteines\"] = df.Sequence.map(cysteine_count)\n",
    "    df[\"difficult_c_terminal\"] = df.Sequence.map(difficult_c_terminal)\n",
    "    df[\"difficult_n_terminal\"] = df.Sequence.map(difficult_n_terminal)\n",
    "    df[\"max_kmer_gravy\"] = df.Sequence.map(max_short_subsequence_gravy_score)\n",
    "    df[\"extreme_local_hydrophobicity\"] = df.max_kmer_gravy > 2.5\n",
    "    df[\"difficult_local_hydrophobicity\"] = df.max_kmer_gravy > 1.5\n",
    "    df[\"too_many_cysteines\"] = df.num_cysteines > 1\n",
    "    df[\"manufacturability_difficulty_score\"] = (\n",
    "        df.difficult_n_terminal.astype(float) +\n",
    "        2.0 * df.num_difficult_dipeptides.astype(float) + \n",
    "        2.0 * df.difficult_c_terminal.astype(float) + \n",
    "        (df.max_kmer_gravy - 1.5).clip(lower=0) + \n",
    "        5.0 * (df.max_kmer_gravy - 2.5).clip(lower=0) + \n",
    "        (df.num_cysteines == 1) + \n",
    "        (10.0 * (df.num_cysteines - 1)).clip(lower=0) \n",
    "    )\n",
    "    return df\n",
    "\n",
    "df_27mer_annot = annotate(df_27mer);\n",
    "df_27mer_annot.to_csv(\"vaccine-peptides-27mer-annotated-05-07-20.csv\", index=False)\n",
    "df_21mer_annot = annotate(df_21mer);\n",
    "df_21mer_annot.to_csv(\"vaccine-peptides-21mer-annotated-05-07-20.csv\", index=False)\n",
    "df_15mer_annot = annotate(df_15mer)\n",
    "df_15mer_annot.to_csv(\"vaccine-peptides-15mer-annotated-05-07-20.csv\", index=False)\n",
    "\n",
    "\n"
   ]
  },
  {
   "cell_type": "code",
   "execution_count": 76,
   "metadata": {},
   "outputs": [
    {
     "data": {
      "text/plain": [
       "<matplotlib.legend.Legend at 0x13b361290>"
      ]
     },
     "execution_count": 76,
     "metadata": {},
     "output_type": "execute_result"
    },
    {
     "data": {
      "image/png": "[encoded data removed]",
      "text/plain": [
       "<Figure size 864x576 with 1 Axes>"
      ]
     },
     "metadata": {
      "needs_background": "light"
     },
     "output_type": "display_data"
    }
   ],
   "source": [
    "import seaborn \n",
    "import matplotlib \n",
    "from matplotlib import pyplot\n",
    "fig = pyplot.figure(figsize=(12,8))\n",
    "seaborn.distplot(df_15mer_annot.manufacturability_difficulty_score)\n",
    "seaborn.distplot(df_21mer_annot.manufacturability_difficulty_score)\n",
    "seaborn.distplot(df_27mer_annot.manufacturability_difficulty_score)\n",
    "pyplot.legend([\"15mer\", \"21mer\", \"27mer\"])"
   ]
  },
  {
   "cell_type": "code",
   "execution_count": null,
   "metadata": {},
   "outputs": [],
   "source": []
  }
 ],
 "metadata": {
  "kernelspec": {
   "display_name": "Python 3",
   "language": "python",
   "name": "python3"
  },
  "language_info": {
   "codemirror_mode": {
    "name": "ipython",
    "version": 3
   },
   "file_extension": ".py",
   "mimetype": "text/x-python",
   "name": "python",
   "nbconvert_exporter": "python",
   "pygments_lexer": "ipython3",
   "version": "3.7.5"
  }
 },
 "nbformat": 4,
 "nbformat_minor": 2
}
